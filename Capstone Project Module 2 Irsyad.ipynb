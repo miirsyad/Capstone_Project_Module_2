{
 "cells": [
  {
   "attachments": {},
   "cell_type": "markdown",
   "metadata": {},
   "source": [
    "# Latar Belakang\n",
    "Sebuah perusahaan rumah produksi ingin membuat film layar lebar yang bisa ditayangkan di *OTT* terkemuka seperti *Netflix*. *Netflix* sendiri memiliki program *Netflix Originals* yang memungkinkan rumah produksi manapun untuk bisa membuat film bersama dengan *Netflix* (*Co-Production*) untuk akhirnya bisa ditayangkan di *OTT* tersebut. Untuk menentukan rumah produksi mana yang *Netflix* inginkan, biasanya mereka melakukan tender terbuka yang bisa diikuti oleh rumah produksi manapun."
   ]
  },
  {
   "attachments": {},
   "cell_type": "markdown",
   "metadata": {},
   "source": [
    "## Pernyataan Masalah\n",
    "\n",
    "Perusahaan ingin mengetahui **film seperti apa yang punya peluang paling besar untuk memenangkan tender**. Informasi ini akan membantu *brainstorming* tim kreatif dalam merancang proposal untuk diikut sertakan dalam tender *Netflix Originals*.\n",
    "\n",
    "Sebagai seorang *data analyst*, kita akan mencoba menjawab pertanyaan berikut:\n",
    "\n",
    "**Apa karakteristik film *Netflix Originals* yang punya peluang paling besar untuk memenangkan tender?**"
   ]
  },
  {
   "attachments": {},
   "cell_type": "markdown",
   "metadata": {},
   "source": [
    "# Data\n",
    "Untuk menjawab pertanyaan di atas, kita akan menganalisis data film *Netflix Originals* yang dirilis dari tanggal 13 Desember 2014 hingga 27 Mei 2021."
   ]
  },
  {
   "cell_type": "code",
   "execution_count": 170,
   "metadata": {},
   "outputs": [],
   "source": [
    "import pandas as pd\n",
    "import numpy as np\n",
    "import matplotlib.pyplot as plt\n",
    "import seaborn as sns\n",
    "import plotly.express as px\n",
    "from scipy.stats import normaltest, chi2_contingency, mannwhitneyu, ttest_ind, kruskal\n",
    "\n",
    "import warnings\n",
    "warnings.filterwarnings(\"ignore\")"
   ]
  },
  {
   "attachments": {},
   "cell_type": "markdown",
   "metadata": {},
   "source": [
    "Ada 6 Kolom di dalam dataset *Netflix Originals*, yaitu:\n",
    "\n",
    "* `Title`: Judul dari film\n",
    "* `Genre`: Genre dari film\n",
    "* `Premiere`: Awal penayangan di *Netflix*\n",
    "* `Runtime`: Durasi film \n",
    "* `IMDB Score`: Penilaian film oleh pengguna IMDb (pada tanggal 06/01/2021)\n",
    "* `Language`: Bahasa yang tersedia (pada tanggal 06/01/2021)\n",
    "\n",
    "Berikut 5 baris teratas dan terbawah dari dataset *Netflix Originals*.\n"
   ]
  },
  {
   "cell_type": "code",
   "execution_count": 171,
   "metadata": {},
   "outputs": [
    {
     "data": {
      "text/html": [
       "<div>\n",
       "<style scoped>\n",
       "    .dataframe tbody tr th:only-of-type {\n",
       "        vertical-align: middle;\n",
       "    }\n",
       "\n",
       "    .dataframe tbody tr th {\n",
       "        vertical-align: top;\n",
       "    }\n",
       "\n",
       "    .dataframe thead th {\n",
       "        text-align: right;\n",
       "    }\n",
       "</style>\n",
       "<table border=\"1\" class=\"dataframe\">\n",
       "  <thead>\n",
       "    <tr style=\"text-align: right;\">\n",
       "      <th></th>\n",
       "      <th>Title</th>\n",
       "      <th>Genre</th>\n",
       "      <th>Premiere</th>\n",
       "      <th>Runtime</th>\n",
       "      <th>IMDB Score</th>\n",
       "      <th>Language</th>\n",
       "    </tr>\n",
       "  </thead>\n",
       "  <tbody>\n",
       "    <tr>\n",
       "      <th>0</th>\n",
       "      <td>#REALITYHIGH</td>\n",
       "      <td>Comedy</td>\n",
       "      <td>September 8, 2017</td>\n",
       "      <td>99</td>\n",
       "      <td>5.2</td>\n",
       "      <td>English</td>\n",
       "    </tr>\n",
       "    <tr>\n",
       "      <th>1</th>\n",
       "      <td>13th</td>\n",
       "      <td>Documentary</td>\n",
       "      <td>October 7, 2016</td>\n",
       "      <td>100</td>\n",
       "      <td>8.2</td>\n",
       "      <td>English</td>\n",
       "    </tr>\n",
       "    <tr>\n",
       "      <th>2</th>\n",
       "      <td>13th: A Conversation with Oprah Winfrey &amp; Ava DuVernay</td>\n",
       "      <td>Aftershow / Interview</td>\n",
       "      <td>January 26, 2017</td>\n",
       "      <td>36</td>\n",
       "      <td>7.1</td>\n",
       "      <td>English</td>\n",
       "    </tr>\n",
       "    <tr>\n",
       "      <th>3</th>\n",
       "      <td>15 August</td>\n",
       "      <td>Comedy-drama</td>\n",
       "      <td>March 29, 2019</td>\n",
       "      <td>124</td>\n",
       "      <td>5.8</td>\n",
       "      <td>Marathi</td>\n",
       "    </tr>\n",
       "    <tr>\n",
       "      <th>4</th>\n",
       "      <td>1922</td>\n",
       "      <td>Horror/Crime drama</td>\n",
       "      <td>October 20, 2017</td>\n",
       "      <td>102</td>\n",
       "      <td>6.3</td>\n",
       "      <td>English</td>\n",
       "    </tr>\n",
       "  </tbody>\n",
       "</table>\n",
       "</div>"
      ],
      "text/plain": [
       "                                                    Title  \\\n",
       "0  #REALITYHIGH                                             \n",
       "1  13th                                                     \n",
       "2  13th: A Conversation with Oprah Winfrey & Ava DuVernay   \n",
       "3  15 August                                                \n",
       "4  1922                                                     \n",
       "\n",
       "                   Genre           Premiere  Runtime  IMDB Score Language  \n",
       "0  Comedy                 September 8, 2017  99       5.2         English  \n",
       "1  Documentary            October 7, 2016    100      8.2         English  \n",
       "2  Aftershow / Interview  January 26, 2017   36       7.1         English  \n",
       "3  Comedy-drama           March 29, 2019     124      5.8         Marathi  \n",
       "4  Horror/Crime drama     October 20, 2017   102      6.3         English  "
      ]
     },
     "metadata": {},
     "output_type": "display_data"
    },
    {
     "data": {
      "text/html": [
       "<div>\n",
       "<style scoped>\n",
       "    .dataframe tbody tr th:only-of-type {\n",
       "        vertical-align: middle;\n",
       "    }\n",
       "\n",
       "    .dataframe tbody tr th {\n",
       "        vertical-align: top;\n",
       "    }\n",
       "\n",
       "    .dataframe thead th {\n",
       "        text-align: right;\n",
       "    }\n",
       "</style>\n",
       "<table border=\"1\" class=\"dataframe\">\n",
       "  <thead>\n",
       "    <tr style=\"text-align: right;\">\n",
       "      <th></th>\n",
       "      <th>Title</th>\n",
       "      <th>Genre</th>\n",
       "      <th>Premiere</th>\n",
       "      <th>Runtime</th>\n",
       "      <th>IMDB Score</th>\n",
       "      <th>Language</th>\n",
       "    </tr>\n",
       "  </thead>\n",
       "  <tbody>\n",
       "    <tr>\n",
       "      <th>579</th>\n",
       "      <td>XOXO</td>\n",
       "      <td>Drama</td>\n",
       "      <td>August 26, 2016</td>\n",
       "      <td>92</td>\n",
       "      <td>5.3</td>\n",
       "      <td>English</td>\n",
       "    </tr>\n",
       "    <tr>\n",
       "      <th>580</th>\n",
       "      <td>Yeh Ballet</td>\n",
       "      <td>Drama</td>\n",
       "      <td>February 21, 2020</td>\n",
       "      <td>117</td>\n",
       "      <td>7.6</td>\n",
       "      <td>Hindi</td>\n",
       "    </tr>\n",
       "    <tr>\n",
       "      <th>581</th>\n",
       "      <td>Yes Day</td>\n",
       "      <td>Comedy</td>\n",
       "      <td>March 12, 2021</td>\n",
       "      <td>86</td>\n",
       "      <td>5.7</td>\n",
       "      <td>English</td>\n",
       "    </tr>\n",
       "    <tr>\n",
       "      <th>582</th>\n",
       "      <td>You've Got This</td>\n",
       "      <td>Romantic comedy</td>\n",
       "      <td>October 2, 2020</td>\n",
       "      <td>111</td>\n",
       "      <td>5.8</td>\n",
       "      <td>Spanish</td>\n",
       "    </tr>\n",
       "    <tr>\n",
       "      <th>583</th>\n",
       "      <td>Zion</td>\n",
       "      <td>Documentary</td>\n",
       "      <td>August 10, 2018</td>\n",
       "      <td>11</td>\n",
       "      <td>7.2</td>\n",
       "      <td>English</td>\n",
       "    </tr>\n",
       "  </tbody>\n",
       "</table>\n",
       "</div>"
      ],
      "text/plain": [
       "               Title            Genre           Premiere  Runtime  IMDB Score  \\\n",
       "579  XOXO             Drama            August 26, 2016    92       5.3          \n",
       "580  Yeh Ballet       Drama            February 21, 2020  117      7.6          \n",
       "581  Yes Day          Comedy           March 12, 2021     86       5.7          \n",
       "582  You've Got This  Romantic comedy  October 2, 2020    111      5.8          \n",
       "583  Zion             Documentary      August 10, 2018    11       7.2          \n",
       "\n",
       "    Language  \n",
       "579  English  \n",
       "580  Hindi    \n",
       "581  English  \n",
       "582  Spanish  \n",
       "583  English  "
      ]
     },
     "metadata": {},
     "output_type": "display_data"
    }
   ],
   "source": [
    "df=pd.read_csv('Netflix Originals.csv', index_col=0)\n",
    "display(df.head(),df.tail())"
   ]
  },
  {
   "attachments": {},
   "cell_type": "markdown",
   "metadata": {},
   "source": [
    "## Data Understanding and Cleaning\n",
    "Sebelum masuk ke dalam analisis, kita perlu mengenal dataset kita, dan juga menangani anomali-anomali yang ada di dalam dataset kita. Anomali tersebut akan ditangani, dan penanganannya akan disertai dengan justifikasi yang sesuai.\n",
    "\n",
    "Mari kita lihat informasi umum dari dataset *Netflix Originals*:"
   ]
  },
  {
   "cell_type": "code",
   "execution_count": 172,
   "metadata": {},
   "outputs": [
    {
     "name": "stdout",
     "output_type": "stream",
     "text": [
      "Jumlah baris dan kolom di dataset df adalah (584, 6)\n",
      "<class 'pandas.core.frame.DataFrame'>\n",
      "Int64Index: 584 entries, 0 to 583\n",
      "Data columns (total 6 columns):\n",
      " #   Column      Non-Null Count  Dtype  \n",
      "---  ------      --------------  -----  \n",
      " 0   Title       584 non-null    object \n",
      " 1   Genre       584 non-null    object \n",
      " 2   Premiere    584 non-null    object \n",
      " 3   Runtime     584 non-null    int64  \n",
      " 4   IMDB Score  580 non-null    float64\n",
      " 5   Language    584 non-null    object \n",
      "dtypes: float64(1), int64(1), object(4)\n",
      "memory usage: 31.9+ KB\n"
     ]
    }
   ],
   "source": [
    "print(f'Jumlah baris dan kolom di dataset df adalah {df.shape}')\n",
    "df.info()"
   ]
  },
  {
   "cell_type": "code",
   "execution_count": 173,
   "metadata": {},
   "outputs": [
    {
     "data": {
      "text/html": [
       "<div>\n",
       "<style scoped>\n",
       "    .dataframe tbody tr th:only-of-type {\n",
       "        vertical-align: middle;\n",
       "    }\n",
       "\n",
       "    .dataframe tbody tr th {\n",
       "        vertical-align: top;\n",
       "    }\n",
       "\n",
       "    .dataframe thead th {\n",
       "        text-align: right;\n",
       "    }\n",
       "</style>\n",
       "<table border=\"1\" class=\"dataframe\">\n",
       "  <thead>\n",
       "    <tr style=\"text-align: right;\">\n",
       "      <th></th>\n",
       "      <th>Runtime</th>\n",
       "      <th>IMDB Score</th>\n",
       "    </tr>\n",
       "  </thead>\n",
       "  <tbody>\n",
       "    <tr>\n",
       "      <th>count</th>\n",
       "      <td>584.000000</td>\n",
       "      <td>580.000000</td>\n",
       "    </tr>\n",
       "    <tr>\n",
       "      <th>mean</th>\n",
       "      <td>93.577055</td>\n",
       "      <td>6.277414</td>\n",
       "    </tr>\n",
       "    <tr>\n",
       "      <th>std</th>\n",
       "      <td>27.761683</td>\n",
       "      <td>0.978380</td>\n",
       "    </tr>\n",
       "    <tr>\n",
       "      <th>min</th>\n",
       "      <td>4.000000</td>\n",
       "      <td>2.500000</td>\n",
       "    </tr>\n",
       "    <tr>\n",
       "      <th>25%</th>\n",
       "      <td>86.000000</td>\n",
       "      <td>5.700000</td>\n",
       "    </tr>\n",
       "    <tr>\n",
       "      <th>50%</th>\n",
       "      <td>97.000000</td>\n",
       "      <td>6.400000</td>\n",
       "    </tr>\n",
       "    <tr>\n",
       "      <th>75%</th>\n",
       "      <td>108.000000</td>\n",
       "      <td>7.000000</td>\n",
       "    </tr>\n",
       "    <tr>\n",
       "      <th>max</th>\n",
       "      <td>209.000000</td>\n",
       "      <td>9.000000</td>\n",
       "    </tr>\n",
       "  </tbody>\n",
       "</table>\n",
       "</div>"
      ],
      "text/plain": [
       "          Runtime  IMDB Score\n",
       "count  584.000000  580.000000\n",
       "mean   93.577055   6.277414  \n",
       "std    27.761683   0.978380  \n",
       "min    4.000000    2.500000  \n",
       "25%    86.000000   5.700000  \n",
       "50%    97.000000   6.400000  \n",
       "75%    108.000000  7.000000  \n",
       "max    209.000000  9.000000  "
      ]
     },
     "metadata": {},
     "output_type": "display_data"
    },
    {
     "data": {
      "text/html": [
       "<div>\n",
       "<style scoped>\n",
       "    .dataframe tbody tr th:only-of-type {\n",
       "        vertical-align: middle;\n",
       "    }\n",
       "\n",
       "    .dataframe tbody tr th {\n",
       "        vertical-align: top;\n",
       "    }\n",
       "\n",
       "    .dataframe thead th {\n",
       "        text-align: right;\n",
       "    }\n",
       "</style>\n",
       "<table border=\"1\" class=\"dataframe\">\n",
       "  <thead>\n",
       "    <tr style=\"text-align: right;\">\n",
       "      <th></th>\n",
       "      <th>Title</th>\n",
       "      <th>Genre</th>\n",
       "      <th>Premiere</th>\n",
       "      <th>Language</th>\n",
       "    </tr>\n",
       "  </thead>\n",
       "  <tbody>\n",
       "    <tr>\n",
       "      <th>count</th>\n",
       "      <td>584</td>\n",
       "      <td>584</td>\n",
       "      <td>584</td>\n",
       "      <td>584</td>\n",
       "    </tr>\n",
       "    <tr>\n",
       "      <th>unique</th>\n",
       "      <td>584</td>\n",
       "      <td>115</td>\n",
       "      <td>390</td>\n",
       "      <td>38</td>\n",
       "    </tr>\n",
       "    <tr>\n",
       "      <th>top</th>\n",
       "      <td>#REALITYHIGH</td>\n",
       "      <td>Documentary</td>\n",
       "      <td>October 2, 2020</td>\n",
       "      <td>English</td>\n",
       "    </tr>\n",
       "    <tr>\n",
       "      <th>freq</th>\n",
       "      <td>1</td>\n",
       "      <td>159</td>\n",
       "      <td>6</td>\n",
       "      <td>401</td>\n",
       "    </tr>\n",
       "  </tbody>\n",
       "</table>\n",
       "</div>"
      ],
      "text/plain": [
       "               Title        Genre         Premiere Language\n",
       "count   584           584          584              584    \n",
       "unique  584           115          390              38     \n",
       "top     #REALITYHIGH  Documentary  October 2, 2020  English\n",
       "freq    1             159          6                401    "
      ]
     },
     "metadata": {},
     "output_type": "display_data"
    }
   ],
   "source": [
    "display(df.describe(), df.describe(include='object'))"
   ]
  },
  {
   "cell_type": "code",
   "execution_count": 174,
   "metadata": {},
   "outputs": [
    {
     "data": {
      "text/html": [
       "<div>\n",
       "<style scoped>\n",
       "    .dataframe tbody tr th:only-of-type {\n",
       "        vertical-align: middle;\n",
       "    }\n",
       "\n",
       "    .dataframe tbody tr th {\n",
       "        vertical-align: top;\n",
       "    }\n",
       "\n",
       "    .dataframe thead th {\n",
       "        text-align: right;\n",
       "    }\n",
       "</style>\n",
       "<table border=\"1\" class=\"dataframe\">\n",
       "  <thead>\n",
       "    <tr style=\"text-align: right;\">\n",
       "      <th></th>\n",
       "      <th>Column Name</th>\n",
       "      <th>Number of Unique</th>\n",
       "      <th>Unique Sample</th>\n",
       "    </tr>\n",
       "  </thead>\n",
       "  <tbody>\n",
       "    <tr>\n",
       "      <th>0</th>\n",
       "      <td>Title</td>\n",
       "      <td>584</td>\n",
       "      <td>[#REALITYHIGH, 13th, 13th: A Conversation with Oprah Winfrey &amp; Ava DuVernay, 15 August, 1922, 22 July, 5 Star Christmas, 6 Balloons, 6 Underground, 7 años, A 3 Minute Hug, A Babysitter's Guide to Monster Hunting, A California Christmas, A Christmas Prince, A Christmas Prince: The Royal Baby, A Christmas Prince: The Royal Wedding, A Fall from Grace, A Futile and Stupid Gesture, A Life of Speed: The Juan Manuel Fangio Story, A Love Song for Latasha, A Secret Love, A Tale of Two Kitchens, A Very Murray Christmas, A Week Away, A Whisker Away, After Maria, After the Raid, Airplane Mode, Ajeeb Daastaans, AK vs AK, Alex Strangelove, Alien Xmas, All Because of You, All Day and a Night, All in My Family, All the Bright Places, All Together Now, Altered Carbon: Resleeved, Always Be My Maybe, Amanda Knox, Amateur, American Factory, American Factory: A Conversation with the Obamas , American Murder: The Family Next Door, American Son, Anelka: Misunderstood, Angela's Christmas, Angela's Christmas Wish, Anima, Antoine Griezmann: The Making of a Legend, Apostle, Ariana Grande: Excuse Me, I Love You, Arlo the Alligator Boy, Army of the Dead, ARQ, Athlete A, Audrie &amp; Daisy, Back to School, Bad Trip, Baggio: The Divine Ponytail, Barbra: The Music, The Mem'ries, The Magic!, Barry, Beasts of No Nation, Beats, Becoming, Been So Long, Below Zero, Ben Platt: Live from Radio City Music Hall, Benji, Between Two Ferns: The Movie, Bigflo &amp; Oil: Hip Hop Frenzy, Biggie: I Got a Story to Tell, Bikram: Yogi, Guru, Predator, Bird Box, Birders, Blackpink: Light Up the Sky, Blame!, Blue Miracle, Bomb Scared, Brahman Naman, Brene Brown: The Call to Courage, Bright, Bulbbul, Burning Sands, Cadaver, Calibre, Cam, Candy Jar, Canvas , Cargo, Casting JonBenet, Caught by a Wave, Chadwick Boseman: Portrait of an Artist, Chasing Coral , Choked: Paisa Bolta Hai, Chopsticks, Christmas Crossfire, Christmas Inheritance, Circus of Books, Citation, ...]</td>\n",
       "    </tr>\n",
       "    <tr>\n",
       "      <th>1</th>\n",
       "      <td>Genre</td>\n",
       "      <td>115</td>\n",
       "      <td>[Comedy, Documentary, Aftershow / Interview, Comedy-drama, Horror/Crime drama, Drama, Action, Comedy/Fantasy/Family, Romantic comedy, Thriller, Biographical/Comedy, Comedy / Musical, Christian musical, Anime/Fantasy, Stop Motion, Action comedy, Romance, Anime/Science fiction, Sports-drama, Animation, Musical / Short, Horror-thriller, Concert Film, Animated musical comedy, Zombie/Heist, Science fiction/Thriller, Hidden-camera prank comedy, Biopic, War drama, Musical, Family film, Psychological thriller, Black comedy, Urban fantasy, Horror, Psychological horror, Animation / Short, Drama/Horror, Romantic teen drama, Romantic drama, Heist, Musical comedy, Family, Horror thriller, Mentalism special, Christmas musical, Teen comedy-drama, Mystery, Dark comedy, Crime drama, Animation/Superhero, Family/Comedy-drama, Mockumentary, Supernatural drama, Action/Comedy, Horror anthology, Romantic comedy/Holiday, Adventure-romance, Action-thriller, Animation / Science Fiction, Science fiction/Drama, Family/Christmas musical, Variety show, Animation/Christmas/Comedy/Adventure, Comedy horror, One-man show, Anthology/Dark comedy, Variety Show, Adventure, Comedy mystery, Science fiction/Mystery, Action-adventure, Historical-epic, Action/Science fiction, Animation/Musical/Adventure, Science fiction thriller, Drama-Comedy, Musical/Western/Fantasy, Romance drama, Superhero, Romantic thriller, Psychological thriller drama, Science fiction adventure, Satire, Making-of, Animation / Comedy, War, Science fiction, Coming-of-age comedy-drama, Crime thriller, Romantic comedy-drama, Anime / Short, Science fiction/Action, Animation / Musicial, Spy thriller, Teen comedy horror, Comedy/Horror, Western, Christmas/Fantasy/Adventure/Comedy, Christmas comedy, ...]</td>\n",
       "    </tr>\n",
       "    <tr>\n",
       "      <th>2</th>\n",
       "      <td>Premiere</td>\n",
       "      <td>390</td>\n",
       "      <td>[September 8, 2017, October 7, 2016, January 26, 2017, March 29, 2019, October 20, 2017, October 10, 2018, December 7, 2018, April 6, 2018, December 13, 2019, October 28, 2016, October 28, 2019, October 15, 2020, December 14, 2020, November 17, 2017, December 5, 2019, November 30, 2018, January 17, 2020, January 26, 2018, March 20, 2020, September 21, 2020, April 29, 2020, May 22, 2019, December 4, 2015, March 26, 2021, June 18, 2020, May 24, 2019, December 19, 2019, January 23, 2020, April 16, 2021, December 24, 2020, June 8, 2018, November 20, 2020, October 1, 2020, May 1, 2020, May 3, 2019, February 28, 2020, August 28, 2020, March 19, 2020, May 31, 2019, September 30, 2016, August 21, 2019, September 30, 2020, November 1, 2019, August 5, 2020, December 1, 2020, June 27, 2019, March 21, 2019, October 12, 2018, December 21, 2020, May 21, 2021, September 16, 2016, June 24, 2020, September 23, 2016, August 30, 2019, May 26, 2021, November 22, 2017, December 16, 2016, October 16, 2015, June 19, 2019, May 6, 2020, October 26, 2018, January 29, 2021, May 20, 2020, March 16, 2018, September 20, 2019, October 8, 2020, March 1, 2021, November 20, 2019, December 21, 2018, September 25, 2019, October 14, 2020, May 20, 2017, May 27, 2021, October 12, 2017, July 7, 2016, April 19, 2019, December 22, 2017, March 10, 2017, October 22, 2020, June 29, 2018, November 16, 2018, April 27, 2018, December 11, 2020, May 18, 2018, April 28, 2017, March 25, 2021, April 17, 2021, July 14, 2017, June 5, 2020, December 4, 2020, December 15, 2017, April 22, 2020, November 6, 2020, September 7, 2018, August 21, 2020, January 13, 2017, April 3, 2020, January 6, 2017, April 13, 2018, December 24, 2019, ...]</td>\n",
       "    </tr>\n",
       "    <tr>\n",
       "      <th>3</th>\n",
       "      <td>Runtime</td>\n",
       "      <td>124</td>\n",
       "      <td>[99, 100, 36, 124, 102, 144, 95, 75, 128, 76, 28, 98, 107, 92, 85, 120, 101, 19, 82, 30, 56, 97, 104, 37, 25, 96, 142, 108, 42, 121, 39, 93, 74, 110, 10, 90, 94, 47, 15, 60, 129, 148, 88, 83, 86, 136, 89, 106, 87, 79, 117, 9, 80, 21, 114, 151, 112, 111, 7, 91, 155, 51, 81, 70, 49, 78, 118, 55, 103, 147, 73, 40, 58, 123, 24, 105, 32, 125, 119, 64, 137, 84, 113, 14, 134, 12, 115, 116, 71, 126, 16, 63, 109, 133, 149, 31, 132, 54, 72, 23, ...]</td>\n",
       "    </tr>\n",
       "    <tr>\n",
       "      <th>4</th>\n",
       "      <td>IMDB Score</td>\n",
       "      <td>54</td>\n",
       "      <td>[5.2, 8.2, 7.1, 5.8, 6.3, 6.8, 4.6, 5.9, 6.1, 6.5, 5.4, 5.3, 7.9, 5.5, 5.7, 6.7, 4.3, 5.0, 6.9, 6.2, 4.2, 7.4, 7.2, 6.4, 7.7, 7.6, 6.6, 7.5, 8.4, 5.6, 5.1, 8.1, 4.8, 6.0, 8.3, 2.6, 9.0, 4.4, 7.3, 3.5, 4.9, 8.6, 2.5, 4.5, 7.0, 4.7, nan, 7.8, 3.4, 3.7, 3.9, 4.1, 8.5, 8.0, 3.2]</td>\n",
       "    </tr>\n",
       "    <tr>\n",
       "      <th>5</th>\n",
       "      <td>Language</td>\n",
       "      <td>38</td>\n",
       "      <td>[English, Marathi, Italian, Spanish, English/Spanish, Japanese, Portuguese, Hindi, Malay, English/Mandarin, French, English/Akan, Korean, Spanish/Basque, Norwegian, German, Indonesian, Filipino, English/Japanese, Dutch, Khmer/English/French, Thai, Turkish, Thia/English, English/Hindi, English/Swedish, Spanish/English, Polish, English/Korean, Swedish, Bengali, English/Arabic, Tamil, English/Russian, Georgian, English/Taiwanese/Mandarin, Spanish/Catalan, English/Ukranian/Russian]</td>\n",
       "    </tr>\n",
       "  </tbody>\n",
       "</table>\n",
       "</div>"
      ],
      "text/plain": [
       "  Column Name  Number of Unique  \\\n",
       "0  Title       584                \n",
       "1  Genre       115                \n",
       "2  Premiere    390                \n",
       "3  Runtime     124                \n",
       "4  IMDB Score  54                 \n",
       "5  Language    38                 \n",
       "\n",
       "                                                                                                                                                                                                                                                                                                                                                                                                                                                                                                                                                                                                                                                                                                                                                                                                                                                                                                                                                                                                                                                                                                                                                                                                                                                                                                                                                                                                                                                                                                                                                                                                                                                                                                                                                                                                                                                                                                                                                                                                        Unique Sample  \n",
       "0  [#REALITYHIGH, 13th, 13th: A Conversation with Oprah Winfrey & Ava DuVernay, 15 August, 1922, 22 July, 5 Star Christmas, 6 Balloons, 6 Underground, 7 años, A 3 Minute Hug, A Babysitter's Guide to Monster Hunting, A California Christmas, A Christmas Prince, A Christmas Prince: The Royal Baby, A Christmas Prince: The Royal Wedding, A Fall from Grace, A Futile and Stupid Gesture, A Life of Speed: The Juan Manuel Fangio Story, A Love Song for Latasha, A Secret Love, A Tale of Two Kitchens, A Very Murray Christmas, A Week Away, A Whisker Away, After Maria, After the Raid, Airplane Mode, Ajeeb Daastaans, AK vs AK, Alex Strangelove, Alien Xmas, All Because of You, All Day and a Night, All in My Family, All the Bright Places, All Together Now, Altered Carbon: Resleeved, Always Be My Maybe, Amanda Knox, Amateur, American Factory, American Factory: A Conversation with the Obamas , American Murder: The Family Next Door, American Son, Anelka: Misunderstood, Angela's Christmas, Angela's Christmas Wish, Anima, Antoine Griezmann: The Making of a Legend, Apostle, Ariana Grande: Excuse Me, I Love You, Arlo the Alligator Boy, Army of the Dead, ARQ, Athlete A, Audrie & Daisy, Back to School, Bad Trip, Baggio: The Divine Ponytail, Barbra: The Music, The Mem'ries, The Magic!, Barry, Beasts of No Nation, Beats, Becoming, Been So Long, Below Zero, Ben Platt: Live from Radio City Music Hall, Benji, Between Two Ferns: The Movie, Bigflo & Oil: Hip Hop Frenzy, Biggie: I Got a Story to Tell, Bikram: Yogi, Guru, Predator, Bird Box, Birders, Blackpink: Light Up the Sky, Blame!, Blue Miracle, Bomb Scared, Brahman Naman, Brene Brown: The Call to Courage, Bright, Bulbbul, Burning Sands, Cadaver, Calibre, Cam, Candy Jar, Canvas , Cargo, Casting JonBenet, Caught by a Wave, Chadwick Boseman: Portrait of an Artist, Chasing Coral , Choked: Paisa Bolta Hai, Chopsticks, Christmas Crossfire, Christmas Inheritance, Circus of Books, Citation, ...]  \n",
       "1  [Comedy, Documentary, Aftershow / Interview, Comedy-drama, Horror/Crime drama, Drama, Action, Comedy/Fantasy/Family, Romantic comedy, Thriller, Biographical/Comedy, Comedy / Musical, Christian musical, Anime/Fantasy, Stop Motion, Action comedy, Romance, Anime/Science fiction, Sports-drama, Animation, Musical / Short, Horror-thriller, Concert Film, Animated musical comedy, Zombie/Heist, Science fiction/Thriller, Hidden-camera prank comedy, Biopic, War drama, Musical, Family film, Psychological thriller, Black comedy, Urban fantasy, Horror, Psychological horror, Animation / Short, Drama/Horror, Romantic teen drama, Romantic drama, Heist, Musical comedy, Family, Horror thriller, Mentalism special, Christmas musical, Teen comedy-drama, Mystery, Dark comedy, Crime drama, Animation/Superhero, Family/Comedy-drama, Mockumentary, Supernatural drama, Action/Comedy, Horror anthology, Romantic comedy/Holiday, Adventure-romance, Action-thriller, Animation / Science Fiction, Science fiction/Drama, Family/Christmas musical, Variety show, Animation/Christmas/Comedy/Adventure, Comedy horror, One-man show, Anthology/Dark comedy, Variety Show, Adventure, Comedy mystery, Science fiction/Mystery, Action-adventure, Historical-epic, Action/Science fiction, Animation/Musical/Adventure, Science fiction thriller, Drama-Comedy, Musical/Western/Fantasy, Romance drama, Superhero, Romantic thriller, Psychological thriller drama, Science fiction adventure, Satire, Making-of, Animation / Comedy, War, Science fiction, Coming-of-age comedy-drama, Crime thriller, Romantic comedy-drama, Anime / Short, Science fiction/Action, Animation / Musicial, Spy thriller, Teen comedy horror, Comedy/Horror, Western, Christmas/Fantasy/Adventure/Comedy, Christmas comedy, ...]                                                                                                                                                                                         \n",
       "2  [September 8, 2017, October 7, 2016, January 26, 2017, March 29, 2019, October 20, 2017, October 10, 2018, December 7, 2018, April 6, 2018, December 13, 2019, October 28, 2016, October 28, 2019, October 15, 2020, December 14, 2020, November 17, 2017, December 5, 2019, November 30, 2018, January 17, 2020, January 26, 2018, March 20, 2020, September 21, 2020, April 29, 2020, May 22, 2019, December 4, 2015, March 26, 2021, June 18, 2020, May 24, 2019, December 19, 2019, January 23, 2020, April 16, 2021, December 24, 2020, June 8, 2018, November 20, 2020, October 1, 2020, May 1, 2020, May 3, 2019, February 28, 2020, August 28, 2020, March 19, 2020, May 31, 2019, September 30, 2016, August 21, 2019, September 30, 2020, November 1, 2019, August 5, 2020, December 1, 2020, June 27, 2019, March 21, 2019, October 12, 2018, December 21, 2020, May 21, 2021, September 16, 2016, June 24, 2020, September 23, 2016, August 30, 2019, May 26, 2021, November 22, 2017, December 16, 2016, October 16, 2015, June 19, 2019, May 6, 2020, October 26, 2018, January 29, 2021, May 20, 2020, March 16, 2018, September 20, 2019, October 8, 2020, March 1, 2021, November 20, 2019, December 21, 2018, September 25, 2019, October 14, 2020, May 20, 2017, May 27, 2021, October 12, 2017, July 7, 2016, April 19, 2019, December 22, 2017, March 10, 2017, October 22, 2020, June 29, 2018, November 16, 2018, April 27, 2018, December 11, 2020, May 18, 2018, April 28, 2017, March 25, 2021, April 17, 2021, July 14, 2017, June 5, 2020, December 4, 2020, December 15, 2017, April 22, 2020, November 6, 2020, September 7, 2018, August 21, 2020, January 13, 2017, April 3, 2020, January 6, 2017, April 13, 2018, December 24, 2019, ...]                                                                                                                                                                                                                                         \n",
       "3  [99, 100, 36, 124, 102, 144, 95, 75, 128, 76, 28, 98, 107, 92, 85, 120, 101, 19, 82, 30, 56, 97, 104, 37, 25, 96, 142, 108, 42, 121, 39, 93, 74, 110, 10, 90, 94, 47, 15, 60, 129, 148, 88, 83, 86, 136, 89, 106, 87, 79, 117, 9, 80, 21, 114, 151, 112, 111, 7, 91, 155, 51, 81, 70, 49, 78, 118, 55, 103, 147, 73, 40, 58, 123, 24, 105, 32, 125, 119, 64, 137, 84, 113, 14, 134, 12, 115, 116, 71, 126, 16, 63, 109, 133, 149, 31, 132, 54, 72, 23, ...]                                                                                                                                                                                                                                                                                                                                                                                                                                                                                                                                                                                                                                                                                                                                                                                                                                                                                                                                                                                                                                                                                                                                                                                                                                                                                                                                                                                                                                                                                                                                                         \n",
       "4  [5.2, 8.2, 7.1, 5.8, 6.3, 6.8, 4.6, 5.9, 6.1, 6.5, 5.4, 5.3, 7.9, 5.5, 5.7, 6.7, 4.3, 5.0, 6.9, 6.2, 4.2, 7.4, 7.2, 6.4, 7.7, 7.6, 6.6, 7.5, 8.4, 5.6, 5.1, 8.1, 4.8, 6.0, 8.3, 2.6, 9.0, 4.4, 7.3, 3.5, 4.9, 8.6, 2.5, 4.5, 7.0, 4.7, nan, 7.8, 3.4, 3.7, 3.9, 4.1, 8.5, 8.0, 3.2]                                                                                                                                                                                                                                                                                                                                                                                                                                                                                                                                                                                                                                                                                                                                                                                                                                                                                                                                                                                                                                                                                                                                                                                                                                                                                                                                                                                                                                                                                                                                                                                                                                                                                                                                 \n",
       "5  [English, Marathi, Italian, Spanish, English/Spanish, Japanese, Portuguese, Hindi, Malay, English/Mandarin, French, English/Akan, Korean, Spanish/Basque, Norwegian, German, Indonesian, Filipino, English/Japanese, Dutch, Khmer/English/French, Thai, Turkish, Thia/English, English/Hindi, English/Swedish, Spanish/English, Polish, English/Korean, Swedish, Bengali, English/Arabic, Tamil, English/Russian, Georgian, English/Taiwanese/Mandarin, Spanish/Catalan, English/Ukranian/Russian]                                                                                                                                                                                                                                                                                                                                                                                                                                                                                                                                                                                                                                                                                                                                                                                                                                                                                                                                                                                                                                                                                                                                                                                                                                                                                                                                                                                                                                                                                                                  "
      ]
     },
     "execution_count": 174,
     "metadata": {},
     "output_type": "execute_result"
    }
   ],
   "source": [
    "pd.set_option('display.max_colwidth', -1)\n",
    "# data unik di tiap kolom\n",
    "listItem = []\n",
    "for col in df.columns :\n",
    "    listItem.append( [col, df[col].nunique(), df[col].unique()])\n",
    "\n",
    "tabel1Desc = pd.DataFrame(columns=['Column Name', 'Number of Unique', 'Unique Sample'],\n",
    "                     data=listItem)\n",
    "tabel1Desc"
   ]
  },
  {
   "cell_type": "code",
   "execution_count": 175,
   "metadata": {},
   "outputs": [
    {
     "data": {
      "text/plain": [
       "-0.02204803168559811"
      ]
     },
     "execution_count": 175,
     "metadata": {},
     "output_type": "execute_result"
    }
   ],
   "source": [
    "# Korelasi antara feature IMDB Score dan Runtime\n",
    "\n",
    "df.corr(method='spearman').loc['IMDB Score', 'Runtime']"
   ]
  },
  {
   "attachments": {},
   "cell_type": "markdown",
   "metadata": {},
   "source": [
    "Secara umum, kita bisa melihat bahwa:\n",
    "* Dataset *Netflix Originals* memiliki 584 baris dan 6 kolom. \n",
    "* *Feature* `IMDB Score` dan `Runtime` memiliki korelasi yang rendah (-0.0229), maka dari itu kita akan menghiraukan *feature* `Runtime` dalam analisis ini.\n",
    "* *Feature* `Title` berperan sebagai id unik untuk tiap film, sehingga *feature* tersebut tidak masuk dalam analisis.\n",
    "* Ada salah tik pada *feature* `Language` seperti \"Thia/English\", kita akan menghiraukan hal ini karena tidak berpengaruh terhadap analisis.\n",
    "* Data pada kolom `Genre` akan dibuat kapital supaya seragam.\n",
    "* Kita akan merubah format *feature* `Premiere` menjadi musim film tersebut dirilis (perilisan di bulan *December*, *January*, *February* menjadi *Winter*, *March*, *April*, *May* menjadi *Spring*, *June*, *July*, *August* menjadi *Summer*, *September*, *October*, *November* menjadi *Fall*). Ini dibutuhkan karena dengan kita mengubah format menjadi musim, perusahaan lebih punya keleluasaan dalam menentukan tanggal perilisannya.\n",
    "* Kita akan membuat *feature* `English` yang menunjukkan apakah film tersedia dalam bahasa inggris atau tidak. Ini akan membantu kita dalam menentukan bahasa untuk film yang akan perusahaan buat.\n",
    "* Terdapat data kosong pada kolom `IMDB Score`. Karena data yang kita miliki sedikit dan data kosongnya sedikit, maka kita akan mengisi data kosong tersebut dengan data aktual yang didapat dari [IMDb](https://www.imdb.com/). Walaupun pengambilan data berbeda waktu, kita akan berasumsi bahwa kualitas film tidak akan membaik/memburuk seiring berjalannya waktu."
   ]
  },
  {
   "attachments": {},
   "cell_type": "markdown",
   "metadata": {},
   "source": [
    "### Data Cleaning"
   ]
  },
  {
   "attachments": {},
   "cell_type": "markdown",
   "metadata": {},
   "source": [
    "Pertama, kita akan merubah format *feature* `Genre` menjadi kapital:"
   ]
  },
  {
   "cell_type": "code",
   "execution_count": 176,
   "metadata": {},
   "outputs": [
    {
     "data": {
      "text/html": [
       "<div>\n",
       "<style scoped>\n",
       "    .dataframe tbody tr th:only-of-type {\n",
       "        vertical-align: middle;\n",
       "    }\n",
       "\n",
       "    .dataframe tbody tr th {\n",
       "        vertical-align: top;\n",
       "    }\n",
       "\n",
       "    .dataframe thead th {\n",
       "        text-align: right;\n",
       "    }\n",
       "</style>\n",
       "<table border=\"1\" class=\"dataframe\">\n",
       "  <thead>\n",
       "    <tr style=\"text-align: right;\">\n",
       "      <th></th>\n",
       "      <th>Title</th>\n",
       "      <th>Genre</th>\n",
       "      <th>Premiere</th>\n",
       "      <th>Runtime</th>\n",
       "      <th>IMDB Score</th>\n",
       "      <th>Language</th>\n",
       "    </tr>\n",
       "  </thead>\n",
       "  <tbody>\n",
       "    <tr>\n",
       "      <th>0</th>\n",
       "      <td>#REALITYHIGH</td>\n",
       "      <td>COMEDY</td>\n",
       "      <td>September 8, 2017</td>\n",
       "      <td>99</td>\n",
       "      <td>5.2</td>\n",
       "      <td>English</td>\n",
       "    </tr>\n",
       "    <tr>\n",
       "      <th>1</th>\n",
       "      <td>13th</td>\n",
       "      <td>DOCUMENTARY</td>\n",
       "      <td>October 7, 2016</td>\n",
       "      <td>100</td>\n",
       "      <td>8.2</td>\n",
       "      <td>English</td>\n",
       "    </tr>\n",
       "    <tr>\n",
       "      <th>2</th>\n",
       "      <td>13th: A Conversation with Oprah Winfrey &amp; Ava DuVernay</td>\n",
       "      <td>AFTERSHOW / INTERVIEW</td>\n",
       "      <td>January 26, 2017</td>\n",
       "      <td>36</td>\n",
       "      <td>7.1</td>\n",
       "      <td>English</td>\n",
       "    </tr>\n",
       "    <tr>\n",
       "      <th>3</th>\n",
       "      <td>15 August</td>\n",
       "      <td>COMEDY-DRAMA</td>\n",
       "      <td>March 29, 2019</td>\n",
       "      <td>124</td>\n",
       "      <td>5.8</td>\n",
       "      <td>Marathi</td>\n",
       "    </tr>\n",
       "    <tr>\n",
       "      <th>4</th>\n",
       "      <td>1922</td>\n",
       "      <td>HORROR/CRIME DRAMA</td>\n",
       "      <td>October 20, 2017</td>\n",
       "      <td>102</td>\n",
       "      <td>6.3</td>\n",
       "      <td>English</td>\n",
       "    </tr>\n",
       "  </tbody>\n",
       "</table>\n",
       "</div>"
      ],
      "text/plain": [
       "                                                    Title  \\\n",
       "0  #REALITYHIGH                                             \n",
       "1  13th                                                     \n",
       "2  13th: A Conversation with Oprah Winfrey & Ava DuVernay   \n",
       "3  15 August                                                \n",
       "4  1922                                                     \n",
       "\n",
       "                   Genre           Premiere  Runtime  IMDB Score Language  \n",
       "0  COMEDY                 September 8, 2017  99       5.2         English  \n",
       "1  DOCUMENTARY            October 7, 2016    100      8.2         English  \n",
       "2  AFTERSHOW / INTERVIEW  January 26, 2017   36       7.1         English  \n",
       "3  COMEDY-DRAMA           March 29, 2019     124      5.8         Marathi  \n",
       "4  HORROR/CRIME DRAMA     October 20, 2017   102      6.3         English  "
      ]
     },
     "execution_count": 176,
     "metadata": {},
     "output_type": "execute_result"
    }
   ],
   "source": [
    "# Menyamakan data di feature Genre menjadi kapital\n",
    "\n",
    "df['Genre'] = df['Genre'].str.upper()\n",
    "df.head()"
   ]
  },
  {
   "attachments": {},
   "cell_type": "markdown",
   "metadata": {},
   "source": [
    "Selanjutnya, kita akan merubah format *feature* `Premiere` dari tanggal perilisan, menjadi pada musim apa film itu dirilis:"
   ]
  },
  {
   "cell_type": "code",
   "execution_count": 177,
   "metadata": {},
   "outputs": [
    {
     "data": {
      "text/plain": [
       "array(['Fall', 'Winter', 'Spring', 'Summer'], dtype=object)"
      ]
     },
     "execution_count": 177,
     "metadata": {},
     "output_type": "execute_result"
    }
   ],
   "source": [
    "# Merubah format feature Premiere\n",
    "\n",
    "musim = df['Premiere'].copy()\n",
    "\n",
    "for i in range(0,584):\n",
    "    if 'March' in musim[i]:\n",
    "        musim[i] = 'Spring'\n",
    "    elif 'April' in musim[i]:\n",
    "        musim[i] = 'Spring'\n",
    "    elif 'May' in musim[i]:\n",
    "        musim[i] = 'Spring'\n",
    "    elif 'June' in musim[i]:\n",
    "        musim[i] = 'Summer'\n",
    "    elif 'July' in musim[i]:\n",
    "        musim[i] = 'Summer'\n",
    "    elif 'August' in musim[i]:\n",
    "        musim[i] = 'Summer'\n",
    "    elif 'September' in musim[i]:\n",
    "        musim[i] = 'Fall'\n",
    "    elif 'October' in musim[i]:\n",
    "        musim[i] = 'Fall'\n",
    "    elif 'November' in musim[i]:\n",
    "        musim[i] = 'Fall'\n",
    "    elif 'December' in musim[i]:\n",
    "        musim[i] = 'Winter'\n",
    "    elif 'January' in musim[i]:\n",
    "        musim[i] = 'Winter'\n",
    "    elif 'February' in musim[i]:\n",
    "        musim[i] = 'Winter'\n",
    "\n",
    "df['Premiere'] = musim\n",
    "\n",
    "df['Premiere'].unique()"
   ]
  },
  {
   "attachments": {},
   "cell_type": "markdown",
   "metadata": {},
   "source": [
    "Selanjutnya, kita akan membuat *feature* `English`:"
   ]
  },
  {
   "cell_type": "code",
   "execution_count": 178,
   "metadata": {},
   "outputs": [
    {
     "data": {
      "text/plain": [
       "array(['ENGLISH', 'NON-ENGLISH'], dtype=object)"
      ]
     },
     "execution_count": 178,
     "metadata": {},
     "output_type": "execute_result"
    }
   ],
   "source": [
    "# Membuat Feature English\n",
    "\n",
    "df_ENG = df[df[\"Language\"].str.contains(\"English\")].copy()\n",
    "\n",
    "df_NENG = df.drop(df[df[\"Language\"].str.contains(\"English\")].index).copy()\n",
    "\n",
    "dfa = df_ENG[['Language']]\n",
    "\n",
    "dfb = df_NENG[['Language']]\n",
    "\n",
    "dfa['Language'] = 'ENGLISH'\n",
    "\n",
    "dfb['Language'] = 'NON-ENGLISH'\n",
    "\n",
    "df['English'] = dfa.append(dfb)\n",
    "\n",
    "df['English'].unique()"
   ]
  },
  {
   "attachments": {},
   "cell_type": "markdown",
   "metadata": {},
   "source": [
    "Selanjutnya, kita akan mengeluarkan *feature* `Runtime` dari dataset:"
   ]
  },
  {
   "cell_type": "code",
   "execution_count": 179,
   "metadata": {},
   "outputs": [
    {
     "data": {
      "text/html": [
       "<div>\n",
       "<style scoped>\n",
       "    .dataframe tbody tr th:only-of-type {\n",
       "        vertical-align: middle;\n",
       "    }\n",
       "\n",
       "    .dataframe tbody tr th {\n",
       "        vertical-align: top;\n",
       "    }\n",
       "\n",
       "    .dataframe thead th {\n",
       "        text-align: right;\n",
       "    }\n",
       "</style>\n",
       "<table border=\"1\" class=\"dataframe\">\n",
       "  <thead>\n",
       "    <tr style=\"text-align: right;\">\n",
       "      <th></th>\n",
       "      <th>Title</th>\n",
       "      <th>Genre</th>\n",
       "      <th>Premiere</th>\n",
       "      <th>IMDB Score</th>\n",
       "      <th>Language</th>\n",
       "      <th>English</th>\n",
       "    </tr>\n",
       "  </thead>\n",
       "  <tbody>\n",
       "    <tr>\n",
       "      <th>0</th>\n",
       "      <td>#REALITYHIGH</td>\n",
       "      <td>COMEDY</td>\n",
       "      <td>Fall</td>\n",
       "      <td>5.2</td>\n",
       "      <td>English</td>\n",
       "      <td>ENGLISH</td>\n",
       "    </tr>\n",
       "    <tr>\n",
       "      <th>1</th>\n",
       "      <td>13th</td>\n",
       "      <td>DOCUMENTARY</td>\n",
       "      <td>Fall</td>\n",
       "      <td>8.2</td>\n",
       "      <td>English</td>\n",
       "      <td>ENGLISH</td>\n",
       "    </tr>\n",
       "    <tr>\n",
       "      <th>2</th>\n",
       "      <td>13th: A Conversation with Oprah Winfrey &amp; Ava DuVernay</td>\n",
       "      <td>AFTERSHOW / INTERVIEW</td>\n",
       "      <td>Winter</td>\n",
       "      <td>7.1</td>\n",
       "      <td>English</td>\n",
       "      <td>ENGLISH</td>\n",
       "    </tr>\n",
       "    <tr>\n",
       "      <th>3</th>\n",
       "      <td>15 August</td>\n",
       "      <td>COMEDY-DRAMA</td>\n",
       "      <td>Spring</td>\n",
       "      <td>5.8</td>\n",
       "      <td>Marathi</td>\n",
       "      <td>NON-ENGLISH</td>\n",
       "    </tr>\n",
       "    <tr>\n",
       "      <th>4</th>\n",
       "      <td>1922</td>\n",
       "      <td>HORROR/CRIME DRAMA</td>\n",
       "      <td>Fall</td>\n",
       "      <td>6.3</td>\n",
       "      <td>English</td>\n",
       "      <td>ENGLISH</td>\n",
       "    </tr>\n",
       "  </tbody>\n",
       "</table>\n",
       "</div>"
      ],
      "text/plain": [
       "                                                    Title  \\\n",
       "0  #REALITYHIGH                                             \n",
       "1  13th                                                     \n",
       "2  13th: A Conversation with Oprah Winfrey & Ava DuVernay   \n",
       "3  15 August                                                \n",
       "4  1922                                                     \n",
       "\n",
       "                   Genre Premiere  IMDB Score Language      English  \n",
       "0  COMEDY                 Fall     5.2         English  ENGLISH      \n",
       "1  DOCUMENTARY            Fall     8.2         English  ENGLISH      \n",
       "2  AFTERSHOW / INTERVIEW  Winter   7.1         English  ENGLISH      \n",
       "3  COMEDY-DRAMA           Spring   5.8         Marathi  NON-ENGLISH  \n",
       "4  HORROR/CRIME DRAMA     Fall     6.3         English  ENGLISH      "
      ]
     },
     "execution_count": 179,
     "metadata": {},
     "output_type": "execute_result"
    }
   ],
   "source": [
    "# Mengeluarkan feature Runtime\n",
    "\n",
    "df = df.drop(['Runtime'], axis=1)\n",
    "df.head()"
   ]
  },
  {
   "attachments": {},
   "cell_type": "markdown",
   "metadata": {},
   "source": [
    "## Missing Value"
   ]
  },
  {
   "attachments": {},
   "cell_type": "markdown",
   "metadata": {},
   "source": [
    "Kita akan mengisi *Missing Value* dari *feature* `IMDB Score` dengan data aktual yang didapat dari [IMDb](https://www.imdb.com/):"
   ]
  },
  {
   "cell_type": "code",
   "execution_count": 180,
   "metadata": {},
   "outputs": [
    {
     "data": {
      "text/html": [
       "<div>\n",
       "<style scoped>\n",
       "    .dataframe tbody tr th:only-of-type {\n",
       "        vertical-align: middle;\n",
       "    }\n",
       "\n",
       "    .dataframe tbody tr th {\n",
       "        vertical-align: top;\n",
       "    }\n",
       "\n",
       "    .dataframe thead th {\n",
       "        text-align: right;\n",
       "    }\n",
       "</style>\n",
       "<table border=\"1\" class=\"dataframe\">\n",
       "  <thead>\n",
       "    <tr style=\"text-align: right;\">\n",
       "      <th></th>\n",
       "      <th>Title</th>\n",
       "      <th>Genre</th>\n",
       "      <th>Premiere</th>\n",
       "      <th>IMDB Score</th>\n",
       "      <th>Language</th>\n",
       "      <th>English</th>\n",
       "    </tr>\n",
       "  </thead>\n",
       "  <tbody>\n",
       "    <tr>\n",
       "      <th>189</th>\n",
       "      <td>Guilty</td>\n",
       "      <td>THRILLER</td>\n",
       "      <td>Spring</td>\n",
       "      <td>NaN</td>\n",
       "      <td>Hindi</td>\n",
       "      <td>NON-ENGLISH</td>\n",
       "    </tr>\n",
       "    <tr>\n",
       "      <th>332</th>\n",
       "      <td>Paris Is Us</td>\n",
       "      <td>ROMANCE DRAMA</td>\n",
       "      <td>Winter</td>\n",
       "      <td>NaN</td>\n",
       "      <td>French</td>\n",
       "      <td>NON-ENGLISH</td>\n",
       "    </tr>\n",
       "    <tr>\n",
       "      <th>365</th>\n",
       "      <td>Rim of the World</td>\n",
       "      <td>SCIENCE FICTION ADVENTURE</td>\n",
       "      <td>Spring</td>\n",
       "      <td>NaN</td>\n",
       "      <td>English</td>\n",
       "      <td>ENGLISH</td>\n",
       "    </tr>\n",
       "    <tr>\n",
       "      <th>569</th>\n",
       "      <td>What Would Sophia Loren Do?</td>\n",
       "      <td>DOCUMENTARY</td>\n",
       "      <td>Winter</td>\n",
       "      <td>NaN</td>\n",
       "      <td>English</td>\n",
       "      <td>ENGLISH</td>\n",
       "    </tr>\n",
       "  </tbody>\n",
       "</table>\n",
       "</div>"
      ],
      "text/plain": [
       "                           Title                      Genre Premiere  \\\n",
       "189  Guilty                       THRILLER                   Spring    \n",
       "332  Paris Is Us                  ROMANCE DRAMA              Winter    \n",
       "365  Rim of the World             SCIENCE FICTION ADVENTURE  Spring    \n",
       "569  What Would Sophia Loren Do?  DOCUMENTARY                Winter    \n",
       "\n",
       "     IMDB Score Language      English  \n",
       "189 NaN          Hindi    NON-ENGLISH  \n",
       "332 NaN          French   NON-ENGLISH  \n",
       "365 NaN          English  ENGLISH      \n",
       "569 NaN          English  ENGLISH      "
      ]
     },
     "execution_count": 180,
     "metadata": {},
     "output_type": "execute_result"
    }
   ],
   "source": [
    "# Semua baris data yang tidak memiliki nilai di feature IMDB Score\n",
    "\n",
    "df[df['IMDB Score'].isna()]"
   ]
  },
  {
   "cell_type": "code",
   "execution_count": 181,
   "metadata": {},
   "outputs": [
    {
     "data": {
      "text/plain": [
       "Int64Index([189, 332, 365, 569], dtype='int64')"
      ]
     },
     "execution_count": 181,
     "metadata": {},
     "output_type": "execute_result"
    }
   ],
   "source": [
    "# Index dari data kosong\n",
    "\n",
    "index_na = df[df['IMDB Score'].isna()].index\n",
    "index_na"
   ]
  },
  {
   "cell_type": "code",
   "execution_count": 182,
   "metadata": {},
   "outputs": [],
   "source": [
    "# Mengisi nilai kosong berdasarkan nilai ril yang didapat dari situs resmi IMDB\n",
    "\n",
    "df['IMDB Score'][df['Title'] == 'Guilty'] = 5.4\n",
    "\n",
    "df['IMDB Score'][df['Title'] == 'Paris Is Us'] = 4.6\n",
    "\n",
    "df['IMDB Score'][df['Title'] == 'Rim of the World'] = 5.2\n",
    "\n",
    "df['IMDB Score'][df['Title'] == 'What Would Sophia Loren Do?'] = 6.6"
   ]
  },
  {
   "cell_type": "code",
   "execution_count": 183,
   "metadata": {},
   "outputs": [
    {
     "data": {
      "text/html": [
       "<div>\n",
       "<style scoped>\n",
       "    .dataframe tbody tr th:only-of-type {\n",
       "        vertical-align: middle;\n",
       "    }\n",
       "\n",
       "    .dataframe tbody tr th {\n",
       "        vertical-align: top;\n",
       "    }\n",
       "\n",
       "    .dataframe thead th {\n",
       "        text-align: right;\n",
       "    }\n",
       "</style>\n",
       "<table border=\"1\" class=\"dataframe\">\n",
       "  <thead>\n",
       "    <tr style=\"text-align: right;\">\n",
       "      <th></th>\n",
       "      <th>Title</th>\n",
       "      <th>Genre</th>\n",
       "      <th>Premiere</th>\n",
       "      <th>IMDB Score</th>\n",
       "      <th>Language</th>\n",
       "      <th>English</th>\n",
       "    </tr>\n",
       "  </thead>\n",
       "  <tbody>\n",
       "    <tr>\n",
       "      <th>189</th>\n",
       "      <td>Guilty</td>\n",
       "      <td>THRILLER</td>\n",
       "      <td>Spring</td>\n",
       "      <td>5.4</td>\n",
       "      <td>Hindi</td>\n",
       "      <td>NON-ENGLISH</td>\n",
       "    </tr>\n",
       "    <tr>\n",
       "      <th>332</th>\n",
       "      <td>Paris Is Us</td>\n",
       "      <td>ROMANCE DRAMA</td>\n",
       "      <td>Winter</td>\n",
       "      <td>4.6</td>\n",
       "      <td>French</td>\n",
       "      <td>NON-ENGLISH</td>\n",
       "    </tr>\n",
       "    <tr>\n",
       "      <th>365</th>\n",
       "      <td>Rim of the World</td>\n",
       "      <td>SCIENCE FICTION ADVENTURE</td>\n",
       "      <td>Spring</td>\n",
       "      <td>5.2</td>\n",
       "      <td>English</td>\n",
       "      <td>ENGLISH</td>\n",
       "    </tr>\n",
       "    <tr>\n",
       "      <th>569</th>\n",
       "      <td>What Would Sophia Loren Do?</td>\n",
       "      <td>DOCUMENTARY</td>\n",
       "      <td>Winter</td>\n",
       "      <td>6.6</td>\n",
       "      <td>English</td>\n",
       "      <td>ENGLISH</td>\n",
       "    </tr>\n",
       "  </tbody>\n",
       "</table>\n",
       "</div>"
      ],
      "text/plain": [
       "                           Title                      Genre Premiere  \\\n",
       "189  Guilty                       THRILLER                   Spring    \n",
       "332  Paris Is Us                  ROMANCE DRAMA              Winter    \n",
       "365  Rim of the World             SCIENCE FICTION ADVENTURE  Spring    \n",
       "569  What Would Sophia Loren Do?  DOCUMENTARY                Winter    \n",
       "\n",
       "     IMDB Score Language      English  \n",
       "189  5.4         Hindi    NON-ENGLISH  \n",
       "332  4.6         French   NON-ENGLISH  \n",
       "365  5.2         English  ENGLISH      \n",
       "569  6.6         English  ENGLISH      "
      ]
     },
     "execution_count": 183,
     "metadata": {},
     "output_type": "execute_result"
    }
   ],
   "source": [
    "# Data kosong sudah terisi\n",
    "\n",
    "df.iloc[index_na]"
   ]
  },
  {
   "attachments": {},
   "cell_type": "markdown",
   "metadata": {},
   "source": [
    "## Data yang sudah bersih\n",
    "\n",
    "Mari kita lihat sekilas info dari data yang sudah dibersihkan"
   ]
  },
  {
   "cell_type": "code",
   "execution_count": 184,
   "metadata": {},
   "outputs": [
    {
     "name": "stdout",
     "output_type": "stream",
     "text": [
      "(584, 6)\n"
     ]
    },
    {
     "data": {
      "text/html": [
       "<div>\n",
       "<style scoped>\n",
       "    .dataframe tbody tr th:only-of-type {\n",
       "        vertical-align: middle;\n",
       "    }\n",
       "\n",
       "    .dataframe tbody tr th {\n",
       "        vertical-align: top;\n",
       "    }\n",
       "\n",
       "    .dataframe thead th {\n",
       "        text-align: right;\n",
       "    }\n",
       "</style>\n",
       "<table border=\"1\" class=\"dataframe\">\n",
       "  <thead>\n",
       "    <tr style=\"text-align: right;\">\n",
       "      <th></th>\n",
       "      <th>dataFeatures</th>\n",
       "      <th>dataType</th>\n",
       "      <th>null</th>\n",
       "      <th>unique</th>\n",
       "      <th>uniqueSample</th>\n",
       "    </tr>\n",
       "  </thead>\n",
       "  <tbody>\n",
       "    <tr>\n",
       "      <th>0</th>\n",
       "      <td>Title</td>\n",
       "      <td>object</td>\n",
       "      <td>0</td>\n",
       "      <td>584</td>\n",
       "      <td>[Sitara: Let Girls Dream, Mrs. Serial Killer]</td>\n",
       "    </tr>\n",
       "    <tr>\n",
       "      <th>1</th>\n",
       "      <td>Genre</td>\n",
       "      <td>object</td>\n",
       "      <td>0</td>\n",
       "      <td>114</td>\n",
       "      <td>[MUSICAL / SHORT, FAMILY FILM]</td>\n",
       "    </tr>\n",
       "    <tr>\n",
       "      <th>2</th>\n",
       "      <td>Premiere</td>\n",
       "      <td>object</td>\n",
       "      <td>0</td>\n",
       "      <td>4</td>\n",
       "      <td>[Summer, Winter]</td>\n",
       "    </tr>\n",
       "    <tr>\n",
       "      <th>3</th>\n",
       "      <td>IMDB Score</td>\n",
       "      <td>float64</td>\n",
       "      <td>0</td>\n",
       "      <td>54</td>\n",
       "      <td>[4.9, 7.7]</td>\n",
       "    </tr>\n",
       "    <tr>\n",
       "      <th>4</th>\n",
       "      <td>Language</td>\n",
       "      <td>object</td>\n",
       "      <td>0</td>\n",
       "      <td>38</td>\n",
       "      <td>[English/Korean, Spanish]</td>\n",
       "    </tr>\n",
       "    <tr>\n",
       "      <th>5</th>\n",
       "      <td>English</td>\n",
       "      <td>object</td>\n",
       "      <td>0</td>\n",
       "      <td>2</td>\n",
       "      <td>[NON-ENGLISH, ENGLISH]</td>\n",
       "    </tr>\n",
       "  </tbody>\n",
       "</table>\n",
       "</div>"
      ],
      "text/plain": [
       "  dataFeatures dataType  null  unique  \\\n",
       "0  Title        object   0     584      \n",
       "1  Genre        object   0     114      \n",
       "2  Premiere     object   0     4        \n",
       "3  IMDB Score   float64  0     54       \n",
       "4  Language     object   0     38       \n",
       "5  English      object   0     2        \n",
       "\n",
       "                                    uniqueSample  \n",
       "0  [Sitara: Let Girls Dream, Mrs. Serial Killer]  \n",
       "1  [MUSICAL / SHORT, FAMILY FILM]                 \n",
       "2  [Summer, Winter]                               \n",
       "3  [4.9, 7.7]                                     \n",
       "4  [English/Korean, Spanish]                      \n",
       "5  [NON-ENGLISH, ENGLISH]                         "
      ]
     },
     "execution_count": 184,
     "metadata": {},
     "output_type": "execute_result"
    }
   ],
   "source": [
    "listItem = []\n",
    "for col in df.columns :\n",
    "    listItem.append([col, df[col].dtype, df[col].isna().sum(),\n",
    "                    df[col].nunique(), list(df[col].drop_duplicates().sample(2).values)]);\n",
    "\n",
    "dfDesc = pd.DataFrame(columns=['dataFeatures', 'dataType', 'null', 'unique', 'uniqueSample'],\n",
    "                     data=listItem)\n",
    "print(df.shape)\n",
    "dfDesc"
   ]
  },
  {
   "attachments": {},
   "cell_type": "markdown",
   "metadata": {},
   "source": [
    "Setelah *Data Understanding and Cleaning*, tidak terjadi perubahan jumlah data, dan *Mising Values* sudah diisi."
   ]
  },
  {
   "attachments": {},
   "cell_type": "markdown",
   "metadata": {},
   "source": [
    "# Data Analysis\n",
    "\n",
    "Kita akan melakukan analisis untuk mencari tahu **apa karakteristik film *Netflix Originals* yang punya peluang paling besar untuk memenangkan tender?**\n",
    "\n",
    "Pertama-tama, kita harus menentukan film seperti apa yang punya peluang paling besar untuk memenangkan tender.\n",
    "\n",
    "IMDb memiliki *chart* [IMDb Top 250 Movies](https://www.imdb.com/chart/top/?sort=ir,asc&mode=simple&page=1) yang mengurutkan 250 film terbaik berdasarkan penilaian dari pengguna IMDb. Untuk bisa tergabung dalam *chart* tersebut, suatu film setidaknya harus memiliki `IMDB Score` 8.<br><br>\n",
    "Untuk memiliki peluang terbaik dalam mengikuti tender *Netflix Originals*, kita akan berasumsi bahwa dengan mengikuti karakteristik film *Netflix Originals* dengan `IMDB Score` 8 atau lebih, kita akan punya peluang terbaik untuk memenangkan tender, maka dari itu kita akan menganalisis **karakteristik film *Netflix Originals* yang memiliki `IMDB Score` 8 atau lebih**.\n",
    "\n",
    "Kita akan memulai analisis, untuk mencari tahu **apa karakteristik film *Netflix Originals* yang memiliki `IMDB Score` 8 atau lebih?**.  "
   ]
  },
  {
   "attachments": {},
   "cell_type": "markdown",
   "metadata": {},
   "source": [
    "## `Genre`\n",
    "\n",
    "Kita akan menganalisis `Genre` dari film *Netflix Originals* yang memiliki `IMDB Score` 8 atau lebih:"
   ]
  },
  {
   "cell_type": "code",
   "execution_count": 185,
   "metadata": {},
   "outputs": [
    {
     "data": {
      "text/html": [
       "<div>\n",
       "<style scoped>\n",
       "    .dataframe tbody tr th:only-of-type {\n",
       "        vertical-align: middle;\n",
       "    }\n",
       "\n",
       "    .dataframe tbody tr th {\n",
       "        vertical-align: top;\n",
       "    }\n",
       "\n",
       "    .dataframe thead th {\n",
       "        text-align: right;\n",
       "    }\n",
       "</style>\n",
       "<table border=\"1\" class=\"dataframe\">\n",
       "  <thead>\n",
       "    <tr style=\"text-align: right;\">\n",
       "      <th></th>\n",
       "      <th>Title</th>\n",
       "      <th>Genre</th>\n",
       "      <th>Premiere</th>\n",
       "      <th>IMDB Score</th>\n",
       "      <th>Language</th>\n",
       "      <th>English</th>\n",
       "    </tr>\n",
       "  </thead>\n",
       "  <tbody>\n",
       "    <tr>\n",
       "      <th>121</th>\n",
       "      <td>David Attenborough: A Life on Our Planet</td>\n",
       "      <td>DOCUMENTARY</td>\n",
       "      <td>Fall</td>\n",
       "      <td>9.0</td>\n",
       "      <td>English</td>\n",
       "      <td>ENGLISH</td>\n",
       "    </tr>\n",
       "    <tr>\n",
       "      <th>145</th>\n",
       "      <td>Emicida: AmarElo - It's All For Yesterday</td>\n",
       "      <td>DOCUMENTARY</td>\n",
       "      <td>Winter</td>\n",
       "      <td>8.6</td>\n",
       "      <td>Portuguese</td>\n",
       "      <td>NON-ENGLISH</td>\n",
       "    </tr>\n",
       "    <tr>\n",
       "      <th>412</th>\n",
       "      <td>Springsteen on Broadway</td>\n",
       "      <td>ONE-MAN SHOW</td>\n",
       "      <td>Winter</td>\n",
       "      <td>8.5</td>\n",
       "      <td>English</td>\n",
       "      <td>ENGLISH</td>\n",
       "    </tr>\n",
       "    <tr>\n",
       "      <th>577</th>\n",
       "      <td>Winter on Fire: Ukraine's Fight for Freedom</td>\n",
       "      <td>DOCUMENTARY</td>\n",
       "      <td>Fall</td>\n",
       "      <td>8.4</td>\n",
       "      <td>English/Ukranian/Russian</td>\n",
       "      <td>ENGLISH</td>\n",
       "    </tr>\n",
       "    <tr>\n",
       "      <th>427</th>\n",
       "      <td>Taylor Swift: Reputation Stadium Tour</td>\n",
       "      <td>CONCERT FILM</td>\n",
       "      <td>Winter</td>\n",
       "      <td>8.4</td>\n",
       "      <td>English</td>\n",
       "      <td>ENGLISH</td>\n",
       "    </tr>\n",
       "    <tr>\n",
       "      <th>67</th>\n",
       "      <td>Ben Platt: Live from Radio City Music Hall</td>\n",
       "      <td>CONCERT FILM</td>\n",
       "      <td>Spring</td>\n",
       "      <td>8.4</td>\n",
       "      <td>English</td>\n",
       "      <td>ENGLISH</td>\n",
       "    </tr>\n",
       "    <tr>\n",
       "      <th>114</th>\n",
       "      <td>Cuba and the Cameraman</td>\n",
       "      <td>DOCUMENTARY</td>\n",
       "      <td>Fall</td>\n",
       "      <td>8.3</td>\n",
       "      <td>English</td>\n",
       "      <td>ENGLISH</td>\n",
       "    </tr>\n",
       "    <tr>\n",
       "      <th>118</th>\n",
       "      <td>Dancing with the Birds</td>\n",
       "      <td>DOCUMENTARY</td>\n",
       "      <td>Fall</td>\n",
       "      <td>8.3</td>\n",
       "      <td>English</td>\n",
       "      <td>ENGLISH</td>\n",
       "    </tr>\n",
       "    <tr>\n",
       "      <th>383</th>\n",
       "      <td>Seaspiracy</td>\n",
       "      <td>DOCUMENTARY</td>\n",
       "      <td>Spring</td>\n",
       "      <td>8.2</td>\n",
       "      <td>English</td>\n",
       "      <td>ENGLISH</td>\n",
       "    </tr>\n",
       "    <tr>\n",
       "      <th>523</th>\n",
       "      <td>The Three Deaths of Marisela Escobedo</td>\n",
       "      <td>DOCUMENTARY</td>\n",
       "      <td>Fall</td>\n",
       "      <td>8.2</td>\n",
       "      <td>Spanish</td>\n",
       "      <td>NON-ENGLISH</td>\n",
       "    </tr>\n",
       "    <tr>\n",
       "      <th>1</th>\n",
       "      <td>13th</td>\n",
       "      <td>DOCUMENTARY</td>\n",
       "      <td>Fall</td>\n",
       "      <td>8.2</td>\n",
       "      <td>English</td>\n",
       "      <td>ENGLISH</td>\n",
       "    </tr>\n",
       "    <tr>\n",
       "      <th>130</th>\n",
       "      <td>Disclosure: Trans Lives on Screen</td>\n",
       "      <td>DOCUMENTARY</td>\n",
       "      <td>Summer</td>\n",
       "      <td>8.2</td>\n",
       "      <td>English</td>\n",
       "      <td>ENGLISH</td>\n",
       "    </tr>\n",
       "    <tr>\n",
       "      <th>248</th>\n",
       "      <td>Klaus</td>\n",
       "      <td>ANIMATION/CHRISTMAS/COMEDY/ADVENTURE</td>\n",
       "      <td>Fall</td>\n",
       "      <td>8.2</td>\n",
       "      <td>English</td>\n",
       "      <td>ENGLISH</td>\n",
       "    </tr>\n",
       "    <tr>\n",
       "      <th>367</th>\n",
       "      <td>Rising Phoenix</td>\n",
       "      <td>DOCUMENTARY</td>\n",
       "      <td>Summer</td>\n",
       "      <td>8.1</td>\n",
       "      <td>English</td>\n",
       "      <td>ENGLISH</td>\n",
       "    </tr>\n",
       "    <tr>\n",
       "      <th>298</th>\n",
       "      <td>My Octopus Teacher</td>\n",
       "      <td>DOCUMENTARY</td>\n",
       "      <td>Fall</td>\n",
       "      <td>8.1</td>\n",
       "      <td>English</td>\n",
       "      <td>ENGLISH</td>\n",
       "    </tr>\n",
       "    <tr>\n",
       "      <th>93</th>\n",
       "      <td>Chasing Coral</td>\n",
       "      <td>DOCUMENTARY</td>\n",
       "      <td>Summer</td>\n",
       "      <td>8.1</td>\n",
       "      <td>English</td>\n",
       "      <td>ENGLISH</td>\n",
       "    </tr>\n",
       "    <tr>\n",
       "      <th>419</th>\n",
       "      <td>Struggle: The Life and Lost Art of Szukaiski</td>\n",
       "      <td>DOCUMENTARY</td>\n",
       "      <td>Winter</td>\n",
       "      <td>8.0</td>\n",
       "      <td>English</td>\n",
       "      <td>ENGLISH</td>\n",
       "    </tr>\n",
       "  </tbody>\n",
       "</table>\n",
       "</div>"
      ],
      "text/plain": [
       "                                            Title  \\\n",
       "121  David Attenborough: A Life on Our Planet       \n",
       "145  Emicida: AmarElo - It's All For Yesterday      \n",
       "412  Springsteen on Broadway                        \n",
       "577  Winter on Fire: Ukraine's Fight for Freedom    \n",
       "427  Taylor Swift: Reputation Stadium Tour          \n",
       "67   Ben Platt: Live from Radio City Music Hall     \n",
       "114  Cuba and the Cameraman                         \n",
       "118  Dancing with the Birds                         \n",
       "383  Seaspiracy                                     \n",
       "523  The Three Deaths of Marisela Escobedo          \n",
       "1    13th                                           \n",
       "130  Disclosure: Trans Lives on Screen              \n",
       "248  Klaus                                          \n",
       "367  Rising Phoenix                                 \n",
       "298  My Octopus Teacher                             \n",
       "93   Chasing Coral                                  \n",
       "419  Struggle: The Life and Lost Art of Szukaiski   \n",
       "\n",
       "                                    Genre Premiere  IMDB Score  \\\n",
       "121  DOCUMENTARY                           Fall     9.0          \n",
       "145  DOCUMENTARY                           Winter   8.6          \n",
       "412  ONE-MAN SHOW                          Winter   8.5          \n",
       "577  DOCUMENTARY                           Fall     8.4          \n",
       "427  CONCERT FILM                          Winter   8.4          \n",
       "67   CONCERT FILM                          Spring   8.4          \n",
       "114  DOCUMENTARY                           Fall     8.3          \n",
       "118  DOCUMENTARY                           Fall     8.3          \n",
       "383  DOCUMENTARY                           Spring   8.2          \n",
       "523  DOCUMENTARY                           Fall     8.2          \n",
       "1    DOCUMENTARY                           Fall     8.2          \n",
       "130  DOCUMENTARY                           Summer   8.2          \n",
       "248  ANIMATION/CHRISTMAS/COMEDY/ADVENTURE  Fall     8.2          \n",
       "367  DOCUMENTARY                           Summer   8.1          \n",
       "298  DOCUMENTARY                           Fall     8.1          \n",
       "93   DOCUMENTARY                           Summer   8.1          \n",
       "419  DOCUMENTARY                           Winter   8.0          \n",
       "\n",
       "                     Language      English  \n",
       "121  English                   ENGLISH      \n",
       "145  Portuguese                NON-ENGLISH  \n",
       "412  English                   ENGLISH      \n",
       "577  English/Ukranian/Russian  ENGLISH      \n",
       "427  English                   ENGLISH      \n",
       "67   English                   ENGLISH      \n",
       "114  English                   ENGLISH      \n",
       "118  English                   ENGLISH      \n",
       "383  English                   ENGLISH      \n",
       "523  Spanish                   NON-ENGLISH  \n",
       "1    English                   ENGLISH      \n",
       "130  English                   ENGLISH      \n",
       "248  English                   ENGLISH      \n",
       "367  English                   ENGLISH      \n",
       "298  English                   ENGLISH      \n",
       "93   English                   ENGLISH      \n",
       "419  English                   ENGLISH      "
      ]
     },
     "execution_count": 185,
     "metadata": {},
     "output_type": "execute_result"
    }
   ],
   "source": [
    "# Film dengan IMDB Score yang nilainya 8 atau lebih\n",
    "\n",
    "df_8 = df[df['IMDB Score']>=8].sort_values(by='IMDB Score', ascending=False).copy()\n",
    "df_8"
   ]
  },
  {
   "cell_type": "code",
   "execution_count": 209,
   "metadata": {},
   "outputs": [
    {
     "data": {
      "image/png": "[encoded data removed]",
      "text/plain": [
       "<Figure size 500x500 with 1 Axes>"
      ]
     },
     "metadata": {},
     "output_type": "display_data"
    }
   ],
   "source": [
    "plt.figure(figsize=(5,5))\n",
    "sns.countplot(data=df_8, y='Genre', order= ['DOCUMENTARY','CONCERT FILM', 'ONE-MAN SHOW', 'ANIMATION/CHRISTMAS/COMEDY/ADVENTURE']);\n",
    "plt.title('Genre Film dengan Score 8 atau Lebih')\n",
    "plt.xlabel('Jumlah Film')\n",
    "plt.yticks()\n",
    "# plt.xticks(rotation = 90)\n",
    "plt.show()"
   ]
  },
  {
   "attachments": {},
   "cell_type": "markdown",
   "metadata": {},
   "source": [
    "Dari grafik di atas, kita bisa melihat bahwa *DOCUMENTARY* menjadi `Genre` yang paling populer untuk film dengan `IMDB Score` 8 atau lebih. <BR><br>\n",
    "`Genre` lain yang ada di grafik yaitu *ONE-MAN SHOW*, *CONCERT FILM*, dan *ANIMATION/CHRISTMAS/COMEDY/ADVENTURE*. *ONE-MAN SHOW* adalah genre film pertunjukkan teater dengan hanya ada 1 penampil dalam penampilannya. Karena kita berencana untuk membuat film layar lebar, maka kita tidak akan merekomendasikan genre tersebut. Untuk `Genre` *CONCERT FILM* biasanya diproduksi untuk dokumentasi sebuah acara konser, dengan alasan yang sama seperti untuk `Genre` *ONE-MAN SHOW*, kita tidak akan merekomendasikan `Genre` *CONCERT FILM*.<br>\n",
    "Untuk `Genre` *ANIMATION/CHRISTMAS/COMEDY/ADVENTURE*, karena `Genre` film tersebut terdiri dari gabungan beberapa `Genre`, maka kita akan menganalisis masing-masing `Genre` tersebut lebih lanjut.<br>\n",
    "Jadi dari grafik di atas, kita mendapatakan `Genre` *DOCUMENTARY*, *ANIMATION*, *CHRISTMAS*, *COMEDY*, *ADVENTURE* sebagai `Genre` yang akan kita analisis lebih lanjut.<br><br> Kita akan menganalisis lebih lanjut `Genre` tersebut dengan menggunakan data keseluruhan:"
   ]
  },
  {
   "cell_type": "code",
   "execution_count": 187,
   "metadata": {},
   "outputs": [],
   "source": [
    "# Membuat data frame untuk untuk analisa genre *ANIMATION/CHRISTMAS/COMEDY/ADVENTURE*\n",
    "\n",
    "df_CHRISTMAS = df[df[\"Genre\"].str.contains(\"CHRISTMAS\")]\n",
    "\n",
    "df_ADVENTURE = df[df[\"Genre\"].str.contains(\"ADVENTURE\")]\n",
    "\n",
    "df_ANIMATION = df[df[\"Genre\"].str.contains(\"ANIMATION\")]\n",
    "\n",
    "df_COMEDY = df[df[\"Genre\"].str.contains(\"COMEDY\")]\n",
    "\n",
    "df_DOCUMENTARY = df[df[\"Genre\"].str.contains(\"DOCUMENTARY\")]"
   ]
  },
  {
   "cell_type": "code",
   "execution_count": 188,
   "metadata": {},
   "outputs": [],
   "source": [
    "df1 = df_COMEDY[['Genre', 'IMDB Score']]\n",
    "\n",
    "df2 = df_ANIMATION[['Genre', 'IMDB Score']]\n",
    "\n",
    "df3 = df_ADVENTURE[['Genre', 'IMDB Score']]\n",
    "\n",
    "df4 = df_CHRISTMAS[['Genre', 'IMDB Score']]\n",
    "\n",
    "df5 = df_DOCUMENTARY[['Genre', 'IMDB Score']]"
   ]
  },
  {
   "cell_type": "code",
   "execution_count": 189,
   "metadata": {},
   "outputs": [],
   "source": [
    "df1['Genre'] = 'COMEDY'\n",
    "\n",
    "df2['Genre'] = 'ANIMATION'\n",
    "\n",
    "df3['Genre'] = 'ADVENTURE'\n",
    "\n",
    "df4['Genre'] = 'CHRISTMAS'\n",
    "\n",
    "df5['Genre'] = 'DOCUMENTARY'"
   ]
  },
  {
   "cell_type": "code",
   "execution_count": 190,
   "metadata": {},
   "outputs": [
    {
     "data": {
      "text/plain": [
       "array(['COMEDY', 'ANIMATION', 'ADVENTURE', 'CHRISTMAS', 'DOCUMENTARY'],\n",
       "      dtype=object)"
      ]
     },
     "execution_count": 190,
     "metadata": {},
     "output_type": "execute_result"
    }
   ],
   "source": [
    "df_GENRE = df1.append(df2)\n",
    "df_GENRE = df_GENRE.append(df3)\n",
    "df_GENRE = df_GENRE.append(df4)\n",
    "df_GENRE = df_GENRE.append(df5)\n",
    "\n",
    "df_GENRE['Genre'].unique()"
   ]
  },
  {
   "cell_type": "code",
   "execution_count": 211,
   "metadata": {},
   "outputs": [
    {
     "data": {
      "text/html": [
       "<div>\n",
       "<style scoped>\n",
       "    .dataframe tbody tr th:only-of-type {\n",
       "        vertical-align: middle;\n",
       "    }\n",
       "\n",
       "    .dataframe tbody tr th {\n",
       "        vertical-align: top;\n",
       "    }\n",
       "\n",
       "    .dataframe thead th {\n",
       "        text-align: right;\n",
       "    }\n",
       "</style>\n",
       "<table border=\"1\" class=\"dataframe\">\n",
       "  <thead>\n",
       "    <tr style=\"text-align: right;\">\n",
       "      <th></th>\n",
       "      <th>IMDB Score</th>\n",
       "    </tr>\n",
       "    <tr>\n",
       "      <th>Genre</th>\n",
       "      <th></th>\n",
       "    </tr>\n",
       "  </thead>\n",
       "  <tbody>\n",
       "    <tr>\n",
       "      <th>ADVENTURE</th>\n",
       "      <td>10</td>\n",
       "    </tr>\n",
       "    <tr>\n",
       "      <th>ANIMATION</th>\n",
       "      <td>16</td>\n",
       "    </tr>\n",
       "    <tr>\n",
       "      <th>CHRISTMAS</th>\n",
       "      <td>5</td>\n",
       "    </tr>\n",
       "    <tr>\n",
       "      <th>COMEDY</th>\n",
       "      <td>141</td>\n",
       "    </tr>\n",
       "    <tr>\n",
       "      <th>DOCUMENTARY</th>\n",
       "      <td>159</td>\n",
       "    </tr>\n",
       "  </tbody>\n",
       "</table>\n",
       "</div>"
      ],
      "text/plain": [
       "             IMDB Score\n",
       "Genre                  \n",
       "ADVENTURE    10        \n",
       "ANIMATION    16        \n",
       "CHRISTMAS    5         \n",
       "COMEDY       141       \n",
       "DOCUMENTARY  159       "
      ]
     },
     "execution_count": 211,
     "metadata": {},
     "output_type": "execute_result"
    }
   ],
   "source": [
    "df_GENRE.groupby(by='Genre').count()"
   ]
  },
  {
   "attachments": {},
   "cell_type": "markdown",
   "metadata": {},
   "source": [
    "Kita akan melihat jumlah film dari masing-masing `Genre`:"
   ]
  },
  {
   "cell_type": "code",
   "execution_count": 191,
   "metadata": {},
   "outputs": [
    {
     "data": {
      "image/png": "[encoded data removed]",
      "text/plain": [
       "<Figure size 800x600 with 1 Axes>"
      ]
     },
     "metadata": {},
     "output_type": "display_data"
    }
   ],
   "source": [
    "# Membandingkan jumlah film dari Genre Documentary, Comedy, Animation, dan Adventure\n",
    "\n",
    "plt.figure(figsize=(8,6))\n",
    "sns.countplot(data=df_GENRE, x='Genre',order=['DOCUMENTARY', 'COMEDY', 'ANIMATION', 'ADVENTURE', 'CHRISTMAS']);\n",
    "plt.title('Jumlah Film dari Tiap Genre')\n",
    "plt.ylabel('Jumlah Film')\n",
    "plt.show()"
   ]
  },
  {
   "attachments": {},
   "cell_type": "markdown",
   "metadata": {},
   "source": [
    "Dari grafik di atas, kita bisa melihat bahwa `Genre` *DOCUMENTARY* dan *COMEDY* adalah `Genre` yang jauh lebih populer dibandingkan `Genre` lainnya, maka dari itu untuk analisis selanjutnya, kita akan fokus kepada `Genre` *DOCUMENTARY* dan *COMEDY*.<br><br>\n",
    "Selanjutnya kita akan melihat sebaran data `IMDB Score` dari `Genre` *DOCUMENTARY* dan *COMEDY*:"
   ]
  },
  {
   "cell_type": "code",
   "execution_count": 192,
   "metadata": {},
   "outputs": [
    {
     "data": {
      "image/png": "[encoded data removed]",
      "text/plain": [
       "<Figure size 1200x600 with 1 Axes>"
      ]
     },
     "metadata": {},
     "output_type": "display_data"
    }
   ],
   "source": [
    "plt.figure(figsize=(12,6))\n",
    "sns.boxplot(data= df_GENRE, y='Genre', x= 'IMDB Score', order=['DOCUMENTARY', 'COMEDY'])\n",
    "plt.title('Sebaran IMDB Score tiap Genre')\n",
    "plt.show()"
   ]
  },
  {
   "cell_type": "code",
   "execution_count": 193,
   "metadata": {},
   "outputs": [
    {
     "name": "stdout",
     "output_type": "stream",
     "text": [
      "tidak normal\n"
     ]
    }
   ],
   "source": [
    "# Cek distribusi feature IMDB Score\n",
    "\n",
    "from scipy.stats import normaltest\n",
    "stats, pval=normaltest(df['IMDB Score'])\n",
    "if pval<=0.05:\n",
    "    print('tidak normal') #Ha\n",
    "else: \n",
    "    print('distribusi normal') #Ho "
   ]
  },
  {
   "cell_type": "code",
   "execution_count": 194,
   "metadata": {},
   "outputs": [
    {
     "name": "stdout",
     "output_type": "stream",
     "text": [
      "Tolak Ho\n"
     ]
    }
   ],
   "source": [
    "# Uji statistik, apakah ada perbedaan IMDB Score antara Genre DOCUMENTARY dan COMEDY\n",
    "# Karena distribusi data tidak normal, gunakan mann whitney\n",
    "\n",
    "stat, pvalue = mannwhitneyu(\n",
    "    df_GENRE[df_GENRE['Genre']=='COMEDY']['IMDB Score'],\n",
    "    df_GENRE[df_GENRE['Genre']=='DOCUMENTARY']['IMDB Score'],\n",
    ")\n",
    "if pvalue <= 0.05:\n",
    "    print('Tolak Ho')\n",
    "else:\n",
    "    print('Gagal menolak Ho')"
   ]
  },
  {
   "cell_type": "code",
   "execution_count": 195,
   "metadata": {},
   "outputs": [
    {
     "data": {
      "text/plain": [
       "IMDB Score    6.936478\n",
       "dtype: float64"
      ]
     },
     "execution_count": 195,
     "metadata": {},
     "output_type": "execute_result"
    }
   ],
   "source": [
    "df_GENRE[df_GENRE['Genre']=='DOCUMENTARY'].mean()"
   ]
  },
  {
   "cell_type": "code",
   "execution_count": 196,
   "metadata": {},
   "outputs": [
    {
     "data": {
      "text/plain": [
       "IMDB Score    5.830496\n",
       "dtype: float64"
      ]
     },
     "execution_count": 196,
     "metadata": {},
     "output_type": "execute_result"
    }
   ],
   "source": [
    "df_GENRE[df_GENRE['Genre']=='COMEDY'].mean()"
   ]
  },
  {
   "attachments": {},
   "cell_type": "markdown",
   "metadata": {},
   "source": [
    "Dari grafik dan uji statistik, kita tahu bahwa `IMDB Score` dari *DOCUMENTARY* berbeda signifikan dengan `IMDB Score` dari *COMEDY*, dengan *mean* `IMDB Score` *DOCUMENTARY* 6.9, dan *mean* `IMDB Score` *COMEDY* 5.8. Ini menunjukkan bahwa film *DOCUMENTARY* punya `IMDB Score` yang lebih besar dibanding film *COMEDY*."
   ]
  },
  {
   "attachments": {},
   "cell_type": "markdown",
   "metadata": {},
   "source": [
    "## `Premiere`\n",
    "\n",
    "Setelah menganalisis `Genre`, kita akan menganalisis *feature* `Premiere` dari film *Netflix Originals* yang memiliki IMDB Score 8 atau lebih:"
   ]
  },
  {
   "cell_type": "code",
   "execution_count": 197,
   "metadata": {},
   "outputs": [
    {
     "data": {
      "image/png": "[encoded data removed]",
      "text/plain": [
       "<Figure size 1200x600 with 1 Axes>"
      ]
     },
     "metadata": {},
     "output_type": "display_data"
    }
   ],
   "source": [
    "# Sebaran Premiere dari film *Netflix Originals* yang memiliki IMDB Score 8 atau lebih\n",
    "\n",
    "plt.figure(figsize=(12,6))\n",
    "a = sns.countplot(data=df_8, x='Premiere', order=['Fall', 'Winter', 'Summer', 'Spring']);\n",
    "a.patches[0].set_facecolor('maroon')\n",
    "a.patches[1].set_facecolor('skyblue')\n",
    "a.patches[2].set_facecolor('orange')\n",
    "a.patches[3].set_facecolor('pink')\n",
    "plt.title('Premiere Film dengan Score 8 atau Lebih')\n",
    "plt.ylabel('Jumlah Film')\n",
    "plt.show(a)"
   ]
  },
  {
   "attachments": {},
   "cell_type": "markdown",
   "metadata": {},
   "source": [
    "Dari grafik di atas, kita melihat bahwa perilisan film paling favorit untuk film *Netflix Originals* yang memiliki IMDB Score 8 atau lebih adalah *Fall*. <br><br>Selanjutnya, kita analisis `Premiere` untuk `Genre` yang sudah kita analisis, yaitu *DOCUMENTARY* dan *COMEDY*:"
   ]
  },
  {
   "cell_type": "code",
   "execution_count": 198,
   "metadata": {},
   "outputs": [
    {
     "data": {
      "image/png": "[encoded data removed]",
      "text/plain": [
       "<Figure size 1200x600 with 1 Axes>"
      ]
     },
     "metadata": {},
     "output_type": "display_data"
    }
   ],
   "source": [
    "# Sebaran Premiere Film dengan Genre Documentary\n",
    "\n",
    "plt.figure(figsize=(12,6))\n",
    "b = sns.countplot(data=df_DOCUMENTARY, x='Premiere',order=['Fall', 'Spring', 'Summer', 'Winter']);\n",
    "plt.title('Premiere Film dari Genre Documentary')\n",
    "b.patches[0].set_facecolor('maroon')\n",
    "b.patches[3].set_facecolor('skyblue')\n",
    "b.patches[2].set_facecolor('orange')\n",
    "b.patches[1].set_facecolor('pink')\n",
    "plt.ylabel('Jumlah Film')\n",
    "plt.show()"
   ]
  },
  {
   "cell_type": "code",
   "execution_count": 199,
   "metadata": {},
   "outputs": [
    {
     "data": {
      "image/png": "[encoded data removed]",
      "text/plain": [
       "<Figure size 1200x600 with 1 Axes>"
      ]
     },
     "metadata": {},
     "output_type": "display_data"
    }
   ],
   "source": [
    "# Sebaran Premiere Film dengan Genre Documentary\n",
    "\n",
    "plt.figure(figsize=(12,6))\n",
    "c = sns.countplot(data=df_COMEDY, x='Premiere',order=['Spring', 'Fall', 'Winter', 'Summer']);\n",
    "plt.title('Premiere Film dari Genre Comedy')\n",
    "c.patches[1].set_facecolor('maroon')\n",
    "c.patches[2].set_facecolor('skyblue')\n",
    "c.patches[3].set_facecolor('orange')\n",
    "c.patches[0].set_facecolor('pink')\n",
    "plt.ylabel('Jumlah Film')\n",
    "plt.show()"
   ]
  },
  {
   "attachments": {},
   "cell_type": "markdown",
   "metadata": {},
   "source": [
    "Dari grafik pertama, kita bisa melihat bahwa *Fall* menjadi musim perilisan paling favorit untuk `Genre` *DOCUMENTARY*.<br>\n",
    "Dari grafik kedua, kita bisa melihat bahwa *Spring* menjadi musim perilisan paling favorit untuk `Genre` *COMEDY*, diikuti oleh *Fall* sebagai kedua favorit.<br><br>Jika kita bandingkan sebaran `Premiere` dari film *Netflix Originals* yang memiliki `IMDB Score` 8 atau lebih dan `Premiere` dari `Genre` *DOCUMENTARY* dan *COMEDY*, ada kemiripan pada kecenderungan `Premiere` yaitu *Fall*. Walaupun untuk *COMEDY* lebih populer dirilis pada *Spring*, *Fall* hanya terpaut 5 film dari *Spring*."
   ]
  },
  {
   "attachments": {},
   "cell_type": "markdown",
   "metadata": {},
   "source": [
    "## `Language`\n",
    "\n",
    "Terakhir kita akan menganalisis `Language`.\n",
    "\n",
    "Mari kita lihat sebaran `Language` dari film *Netflix Originals* yang memiliki IMDB Score 8 atau lebih:"
   ]
  },
  {
   "cell_type": "code",
   "execution_count": 200,
   "metadata": {},
   "outputs": [],
   "source": [
    "# Membuat data frame untuk analisa genre *ANIMATION/CHRISTMAS/COMEDY/ADVENTURE*\n",
    "\n",
    "df_ENG1 = df_8[df_8[\"Language\"].str.contains(\"English\")].copy()\n",
    "\n",
    "df_NENG1 = df_8.drop(df_8[df_8[\"Language\"].str.contains(\"English\")].index).copy()"
   ]
  },
  {
   "cell_type": "code",
   "execution_count": 201,
   "metadata": {},
   "outputs": [],
   "source": [
    "dfc = df_ENG1[['Title','Genre', 'IMDB Score', 'Language']]\n",
    "\n",
    "dfd = df_NENG1[['Title','Genre', 'IMDB Score', 'Language']]"
   ]
  },
  {
   "cell_type": "code",
   "execution_count": 202,
   "metadata": {},
   "outputs": [],
   "source": [
    "dfc['Language'] = 'ENGLISH'\n",
    "\n",
    "dfd['Language'] = 'NON-ENGLISH'"
   ]
  },
  {
   "cell_type": "code",
   "execution_count": 203,
   "metadata": {},
   "outputs": [],
   "source": [
    "df_8L = dfc.append(dfd)"
   ]
  },
  {
   "cell_type": "code",
   "execution_count": 204,
   "metadata": {},
   "outputs": [
    {
     "data": {
      "image/png": "[encoded data removed]",
      "text/plain": [
       "<Figure size 500x500 with 1 Axes>"
      ]
     },
     "metadata": {},
     "output_type": "display_data"
    }
   ],
   "source": [
    "# Perbandingan jumlah film berbahasa inggris dengan yang tidak dari film *Netflix Originals* yang memiliki IMDB Score 8 atau lebih\n",
    "\n",
    "plt.figure(figsize=(5,5))\n",
    "sns.countplot(data=df_8L, x='Language', order= ['ENGLISH', 'NON-ENGLISH']);\n",
    "plt.title('Language dari Film dengan Score 8 atau Lebih')\n",
    "plt.ylabel('Jumlah Film')\n",
    "plt.show()"
   ]
  },
  {
   "cell_type": "code",
   "execution_count": 205,
   "metadata": {},
   "outputs": [
    {
     "data": {
      "image/png": "[encoded data removed]",
      "text/plain": [
       "<Figure size 500x500 with 1 Axes>"
      ]
     },
     "metadata": {},
     "output_type": "display_data"
    }
   ],
   "source": [
    "# Film dengan bahasa Non-English dari film *Netflix Originals* yang memiliki IMDB Score 8 atau lebih\n",
    "\n",
    "plt.figure(figsize=(5,5))\n",
    "sns.countplot(data=df_8, x='Language', order= ['English/Ukranian/Russian', 'Spanish', 'Portuguese']);\n",
    "plt.title('Filmn dengan Bahasa Non-English')\n",
    "plt.ylabel('Jumlah Film')\n",
    "plt.yticks()\n",
    "plt.show()"
   ]
  },
  {
   "attachments": {},
   "cell_type": "markdown",
   "metadata": {},
   "source": [
    "Dari dua grafik di atas, kita bisa lihat bahwa `Language` *English* menjadi bahasa favorit film *Netflix Originals* dengan IMDB Score 8 atau lebih. Film *Non-English* pun hanya terdiri dari *English/Ukranian/Russian*, *Portuguese*, *Spanish*.<br><br>Lalu bagaimana dengan sebaran `Language` *English* dan *Non-English* dari semua film *Netflix Originals*?"
   ]
  },
  {
   "cell_type": "code",
   "execution_count": 206,
   "metadata": {},
   "outputs": [
    {
     "data": {
      "image/png": "[encoded data removed]",
      "text/plain": [
       "<Figure size 500x500 with 1 Axes>"
      ]
     },
     "metadata": {},
     "output_type": "display_data"
    }
   ],
   "source": [
    "# Perbandingan jumlah film berbahasa inggris dari data keseluruhan\n",
    "\n",
    "plt.figure(figsize=(5,5))\n",
    "sns.countplot(data=df, x='English');\n",
    "plt.title('Language dari Keseluruhan Film')\n",
    "plt.ylabel('Jumlah Film')\n",
    "plt.show()"
   ]
  },
  {
   "attachments": {},
   "cell_type": "markdown",
   "metadata": {},
   "source": [
    "Dari grafik di atas, kita bisa melihat bahwa secara keseluruhan, film dengan `Language` *English* lebih populer dibandingkan *Non-English*.<br><br>"
   ]
  },
  {
   "attachments": {},
   "cell_type": "markdown",
   "metadata": {},
   "source": [
    "# Kesimpulan dan Rekomendasi \n",
    "\n",
    "Dari analisis yang telah dilakukan, kita dapat menentukan kesimpulan analisis karakteristik film *Netflix Originals* dengan IMDB Score 8 atau lebih:\n",
    "* *DOCUMENTARY* menjadi `Genre` dengan jumlah film terbanyak, disusul oleh *COMEDY*. Jika kita lihat sebaran `Genre` dari keseluruhan film, *DOCUMENTARY* dan *COMEDY* juga menjadi `Genre` favorit pertama dan kedua.\n",
    "* Waktu `Premiere` yang paling populer untuk perilisan film adalah *Fall*. Untuk `Genre` *DOCUMENTARY* waktu `Premiere` yang paling populer adalah *Fall*, dan untuk *COMEDY*, *Spring* dan *Fall* hanya terpaut 5 film.\n",
    "* `Language`\n",
    "\n",
    "Rekomendasi yang bisa kita berikan untuk menjawaban pertanyaan **Apa karakteristik film *Netflix Originals* yang punya peluang paling besar untuk memenangkan tender?** adalah sebagai berikut:\n",
    "* Film *DOCUMENTARY* yang dirilis pada *Fall* dengan bahasa *English*, atau\n",
    "* Film *COMEDY* yang dirilis pada *Fall* atau *Spring* dengan bahasa *English*"
   ]
  },
  {
   "cell_type": "code",
   "execution_count": 207,
   "metadata": {},
   "outputs": [],
   "source": [
    "# df.to_csv('Netflix Originals Clean.csv', index=False)"
   ]
  }
 ],
 "metadata": {
  "kernelspec": {
   "display_name": "base",
   "language": "python",
   "name": "python3"
  },
  "language_info": {
   "codemirror_mode": {
    "name": "ipython",
    "version": 3
   },
   "file_extension": ".py",
   "mimetype": "text/x-python",
   "name": "python",
   "nbconvert_exporter": "python",
   "pygments_lexer": "ipython3",
   "version": "3.9.13"
  },
  "orig_nbformat": 4
 },
 "nbformat": 4,
 "nbformat_minor": 2
}
